{
 "cells": [
  {
   "cell_type": "markdown",
   "id": "fb283586",
   "metadata": {},
   "source": [
    "<h1>1. Introduction</h1>\n",
    "\n",
    "- Purpose: This project's purpose is analyzing data about patients satisfaction, to find out if there were key features that would have positive effects on hospital overall ratings.\n",
    "\n",
    "- Questions:\n",
    "    1. Does hospital overall rating depend on any feature such as location, service quality and hospital type\n",
    "    2. What are the features that would likely to improve patients satisfaction?\n",
    "    3. If only a few changes can be made due to limited budget, what should be changed first?\n",
    "    \n",
    "    \n",
    "- Data source: https://www.kaggle.com/datasets/kaggleprollc/healthcare-patient-satisfaction-data-collection\n",
    "\n",
    "- Data source's description: In the U.S., every hospital that receives payments from Medicare and Medicaid is mandated to provide quality data to The Centers for Medicare and Medicaid Services (CMS) annually. This data helps gauge patient satisfaction levels across the country. While overall hospital scores can be influenced by the quality of customer services, there may also be variations in satisfaction based on the type of hospital or its location.\n"
   ]
  },
  {
   "cell_type": "markdown",
   "id": "c7232696",
   "metadata": {},
   "source": [
    "<h1>2. Data Loading and Cleaning:</h1>"
   ]
  },
  {
   "cell_type": "code",
   "execution_count": 508,
   "id": "ce228176",
   "metadata": {},
   "outputs": [],
   "source": [
    "# import libraries\n",
    "import pandas as pd\n",
    "import matplotlib.pyplot as plt\n",
    "import seaborn as sns"
   ]
  },
  {
   "cell_type": "code",
   "execution_count": 509,
   "id": "39e2e78f",
   "metadata": {},
   "outputs": [],
   "source": [
    "# data loading\n",
    "df = pd.read_csv('cms_hospital_patient_satisfaction_2020.csv', low_memory=False)"
   ]
  },
  {
   "cell_type": "code",
   "execution_count": 510,
   "id": "e79202a2",
   "metadata": {},
   "outputs": [
    {
     "data": {
      "text/html": [
       "<div>\n",
       "<style scoped>\n",
       "    .dataframe tbody tr th:only-of-type {\n",
       "        vertical-align: middle;\n",
       "    }\n",
       "\n",
       "    .dataframe tbody tr th {\n",
       "        vertical-align: top;\n",
       "    }\n",
       "\n",
       "    .dataframe thead th {\n",
       "        text-align: right;\n",
       "    }\n",
       "</style>\n",
       "<table border=\"1\" class=\"dataframe\">\n",
       "  <thead>\n",
       "    <tr style=\"text-align: right;\">\n",
       "      <th></th>\n",
       "      <th>Facility ID</th>\n",
       "      <th>Facility Name</th>\n",
       "      <th>Address</th>\n",
       "      <th>City</th>\n",
       "      <th>State</th>\n",
       "      <th>ZIP Code</th>\n",
       "      <th>County Name</th>\n",
       "      <th>Phone Number</th>\n",
       "      <th>HCAHPS Measure ID</th>\n",
       "      <th>HCAHPS Question</th>\n",
       "      <th>...</th>\n",
       "      <th>Readmission national comparison</th>\n",
       "      <th>Readmission national comparison footnote</th>\n",
       "      <th>Patient experience national comparison</th>\n",
       "      <th>Patient experience national comparison footnote</th>\n",
       "      <th>Effectiveness of care national comparison</th>\n",
       "      <th>Effectiveness of care national comparison footnote</th>\n",
       "      <th>Timeliness of care national comparison</th>\n",
       "      <th>Timeliness of care national comparison footnote</th>\n",
       "      <th>Efficient use of medical imaging national comparison</th>\n",
       "      <th>Efficient use of medical imaging national comparison footnote</th>\n",
       "    </tr>\n",
       "  </thead>\n",
       "  <tbody>\n",
       "    <tr>\n",
       "      <th>0</th>\n",
       "      <td>010001</td>\n",
       "      <td>SOUTHEAST ALABAMA MEDICAL CENTER</td>\n",
       "      <td>1108 ROSS CLARK CIRCLE</td>\n",
       "      <td>DOTHAN</td>\n",
       "      <td>AL</td>\n",
       "      <td>36301</td>\n",
       "      <td>HOUSTON</td>\n",
       "      <td>(334) 793-8701</td>\n",
       "      <td>H_COMP_1_A_P</td>\n",
       "      <td>Patients who reported that their nurses \"Alway...</td>\n",
       "      <td>...</td>\n",
       "      <td>Below the national average</td>\n",
       "      <td>NaN</td>\n",
       "      <td>Below the national average</td>\n",
       "      <td>NaN</td>\n",
       "      <td>Same as the national average</td>\n",
       "      <td>NaN</td>\n",
       "      <td>Same as the national average</td>\n",
       "      <td>NaN</td>\n",
       "      <td>Same as the national average</td>\n",
       "      <td>NaN</td>\n",
       "    </tr>\n",
       "    <tr>\n",
       "      <th>1</th>\n",
       "      <td>010001</td>\n",
       "      <td>SOUTHEAST ALABAMA MEDICAL CENTER</td>\n",
       "      <td>1108 ROSS CLARK CIRCLE</td>\n",
       "      <td>DOTHAN</td>\n",
       "      <td>AL</td>\n",
       "      <td>36301</td>\n",
       "      <td>HOUSTON</td>\n",
       "      <td>(334) 793-8701</td>\n",
       "      <td>H_COMP_1_SN_P</td>\n",
       "      <td>Patients who reported that their nurses \"Somet...</td>\n",
       "      <td>...</td>\n",
       "      <td>Below the national average</td>\n",
       "      <td>NaN</td>\n",
       "      <td>Below the national average</td>\n",
       "      <td>NaN</td>\n",
       "      <td>Same as the national average</td>\n",
       "      <td>NaN</td>\n",
       "      <td>Same as the national average</td>\n",
       "      <td>NaN</td>\n",
       "      <td>Same as the national average</td>\n",
       "      <td>NaN</td>\n",
       "    </tr>\n",
       "    <tr>\n",
       "      <th>2</th>\n",
       "      <td>010001</td>\n",
       "      <td>SOUTHEAST ALABAMA MEDICAL CENTER</td>\n",
       "      <td>1108 ROSS CLARK CIRCLE</td>\n",
       "      <td>DOTHAN</td>\n",
       "      <td>AL</td>\n",
       "      <td>36301</td>\n",
       "      <td>HOUSTON</td>\n",
       "      <td>(334) 793-8701</td>\n",
       "      <td>H_COMP_1_U_P</td>\n",
       "      <td>Patients who reported that their nurses \"Usual...</td>\n",
       "      <td>...</td>\n",
       "      <td>Below the national average</td>\n",
       "      <td>NaN</td>\n",
       "      <td>Below the national average</td>\n",
       "      <td>NaN</td>\n",
       "      <td>Same as the national average</td>\n",
       "      <td>NaN</td>\n",
       "      <td>Same as the national average</td>\n",
       "      <td>NaN</td>\n",
       "      <td>Same as the national average</td>\n",
       "      <td>NaN</td>\n",
       "    </tr>\n",
       "    <tr>\n",
       "      <th>3</th>\n",
       "      <td>010001</td>\n",
       "      <td>SOUTHEAST ALABAMA MEDICAL CENTER</td>\n",
       "      <td>1108 ROSS CLARK CIRCLE</td>\n",
       "      <td>DOTHAN</td>\n",
       "      <td>AL</td>\n",
       "      <td>36301</td>\n",
       "      <td>HOUSTON</td>\n",
       "      <td>(334) 793-8701</td>\n",
       "      <td>H_COMP_1_LINEAR_SCORE</td>\n",
       "      <td>Nurse communication - linear mean score</td>\n",
       "      <td>...</td>\n",
       "      <td>Below the national average</td>\n",
       "      <td>NaN</td>\n",
       "      <td>Below the national average</td>\n",
       "      <td>NaN</td>\n",
       "      <td>Same as the national average</td>\n",
       "      <td>NaN</td>\n",
       "      <td>Same as the national average</td>\n",
       "      <td>NaN</td>\n",
       "      <td>Same as the national average</td>\n",
       "      <td>NaN</td>\n",
       "    </tr>\n",
       "    <tr>\n",
       "      <th>4</th>\n",
       "      <td>010001</td>\n",
       "      <td>SOUTHEAST ALABAMA MEDICAL CENTER</td>\n",
       "      <td>1108 ROSS CLARK CIRCLE</td>\n",
       "      <td>DOTHAN</td>\n",
       "      <td>AL</td>\n",
       "      <td>36301</td>\n",
       "      <td>HOUSTON</td>\n",
       "      <td>(334) 793-8701</td>\n",
       "      <td>H_COMP_1_STAR_RATING</td>\n",
       "      <td>Nurse communication - star rating</td>\n",
       "      <td>...</td>\n",
       "      <td>Below the national average</td>\n",
       "      <td>NaN</td>\n",
       "      <td>Below the national average</td>\n",
       "      <td>NaN</td>\n",
       "      <td>Same as the national average</td>\n",
       "      <td>NaN</td>\n",
       "      <td>Same as the national average</td>\n",
       "      <td>NaN</td>\n",
       "      <td>Same as the national average</td>\n",
       "      <td>NaN</td>\n",
       "    </tr>\n",
       "  </tbody>\n",
       "</table>\n",
       "<p>5 rows × 43 columns</p>\n",
       "</div>"
      ],
      "text/plain": [
       "  Facility ID                     Facility Name                 Address  \\\n",
       "0      010001  SOUTHEAST ALABAMA MEDICAL CENTER  1108 ROSS CLARK CIRCLE   \n",
       "1      010001  SOUTHEAST ALABAMA MEDICAL CENTER  1108 ROSS CLARK CIRCLE   \n",
       "2      010001  SOUTHEAST ALABAMA MEDICAL CENTER  1108 ROSS CLARK CIRCLE   \n",
       "3      010001  SOUTHEAST ALABAMA MEDICAL CENTER  1108 ROSS CLARK CIRCLE   \n",
       "4      010001  SOUTHEAST ALABAMA MEDICAL CENTER  1108 ROSS CLARK CIRCLE   \n",
       "\n",
       "     City State  ZIP Code County Name    Phone Number      HCAHPS Measure ID  \\\n",
       "0  DOTHAN    AL     36301     HOUSTON  (334) 793-8701           H_COMP_1_A_P   \n",
       "1  DOTHAN    AL     36301     HOUSTON  (334) 793-8701          H_COMP_1_SN_P   \n",
       "2  DOTHAN    AL     36301     HOUSTON  (334) 793-8701           H_COMP_1_U_P   \n",
       "3  DOTHAN    AL     36301     HOUSTON  (334) 793-8701  H_COMP_1_LINEAR_SCORE   \n",
       "4  DOTHAN    AL     36301     HOUSTON  (334) 793-8701   H_COMP_1_STAR_RATING   \n",
       "\n",
       "                                     HCAHPS Question  ...  \\\n",
       "0  Patients who reported that their nurses \"Alway...  ...   \n",
       "1  Patients who reported that their nurses \"Somet...  ...   \n",
       "2  Patients who reported that their nurses \"Usual...  ...   \n",
       "3            Nurse communication - linear mean score  ...   \n",
       "4                  Nurse communication - star rating  ...   \n",
       "\n",
       "  Readmission national comparison Readmission national comparison footnote  \\\n",
       "0      Below the national average                                      NaN   \n",
       "1      Below the national average                                      NaN   \n",
       "2      Below the national average                                      NaN   \n",
       "3      Below the national average                                      NaN   \n",
       "4      Below the national average                                      NaN   \n",
       "\n",
       "   Patient experience national comparison  \\\n",
       "0              Below the national average   \n",
       "1              Below the national average   \n",
       "2              Below the national average   \n",
       "3              Below the national average   \n",
       "4              Below the national average   \n",
       "\n",
       "  Patient experience national comparison footnote  \\\n",
       "0                                             NaN   \n",
       "1                                             NaN   \n",
       "2                                             NaN   \n",
       "3                                             NaN   \n",
       "4                                             NaN   \n",
       "\n",
       "  Effectiveness of care national comparison  \\\n",
       "0              Same as the national average   \n",
       "1              Same as the national average   \n",
       "2              Same as the national average   \n",
       "3              Same as the national average   \n",
       "4              Same as the national average   \n",
       "\n",
       "  Effectiveness of care national comparison footnote  \\\n",
       "0                                                NaN   \n",
       "1                                                NaN   \n",
       "2                                                NaN   \n",
       "3                                                NaN   \n",
       "4                                                NaN   \n",
       "\n",
       "  Timeliness of care national comparison  \\\n",
       "0           Same as the national average   \n",
       "1           Same as the national average   \n",
       "2           Same as the national average   \n",
       "3           Same as the national average   \n",
       "4           Same as the national average   \n",
       "\n",
       "  Timeliness of care national comparison footnote  \\\n",
       "0                                             NaN   \n",
       "1                                             NaN   \n",
       "2                                             NaN   \n",
       "3                                             NaN   \n",
       "4                                             NaN   \n",
       "\n",
       "  Efficient use of medical imaging national comparison  \\\n",
       "0                       Same as the national average     \n",
       "1                       Same as the national average     \n",
       "2                       Same as the national average     \n",
       "3                       Same as the national average     \n",
       "4                       Same as the national average     \n",
       "\n",
       "  Efficient use of medical imaging national comparison footnote  \n",
       "0                                                NaN             \n",
       "1                                                NaN             \n",
       "2                                                NaN             \n",
       "3                                                NaN             \n",
       "4                                                NaN             \n",
       "\n",
       "[5 rows x 43 columns]"
      ]
     },
     "execution_count": 510,
     "metadata": {},
     "output_type": "execute_result"
    }
   ],
   "source": [
    "# see first five records\n",
    "df.head()"
   ]
  },
  {
   "cell_type": "code",
   "execution_count": 511,
   "id": "1e373cbf",
   "metadata": {
    "scrolled": false
   },
   "outputs": [
    {
     "name": "stdout",
     "output_type": "stream",
     "text": [
      "<class 'pandas.core.frame.DataFrame'>\n",
      "RangeIndex: 442587 entries, 0 to 442586\n",
      "Data columns (total 43 columns):\n",
      " #   Column                                                         Non-Null Count   Dtype  \n",
      "---  ------                                                         --------------   -----  \n",
      " 0   Facility ID                                                    442587 non-null  object \n",
      " 1   Facility Name                                                  442587 non-null  object \n",
      " 2   Address                                                        442587 non-null  object \n",
      " 3   City                                                           442587 non-null  object \n",
      " 4   State                                                          442587 non-null  object \n",
      " 5   ZIP Code                                                       442587 non-null  int64  \n",
      " 6   County Name                                                    442587 non-null  object \n",
      " 7   Phone Number                                                   442587 non-null  object \n",
      " 8   HCAHPS Measure ID                                              442587 non-null  object \n",
      " 9   HCAHPS Question                                                442587 non-null  object \n",
      " 10  HCAHPS Answer Description                                      442587 non-null  object \n",
      " 11  Patient Survey Star Rating                                     442587 non-null  object \n",
      " 12  Patient Survey Star Rating Footnote                            15411 non-null   float64\n",
      " 13  HCAHPS Answer Percent                                          442587 non-null  object \n",
      " 14  HCAHPS Answer Percent Footnote                                 104832 non-null  object \n",
      " 15  HCAHPS Linear Mean Value                                       442587 non-null  object \n",
      " 16  Number of Completed Surveys                                    442587 non-null  object \n",
      " 17  Number of Completed Surveys Footnote                           135408 non-null  object \n",
      " 18  Survey Response Rate Percent                                   442587 non-null  object \n",
      " 19  Survey Response Rate Percent Footnote                          135408 non-null  object \n",
      " 20  Start Date                                                     442587 non-null  object \n",
      " 21  End Date                                                       442587 non-null  object \n",
      " 22  Year                                                           442587 non-null  int64  \n",
      " 23  Hospital Type                                                  442587 non-null  object \n",
      " 24  Hospital Ownership                                             442587 non-null  object \n",
      " 25  Emergency Services                                             442587 non-null  object \n",
      " 26  Meets criteria for promoting interoperability of EHRs          368001 non-null  object \n",
      " 27  Hospital overall rating                                        442587 non-null  object \n",
      " 28  Hospital overall rating footnote                               115599 non-null  float64\n",
      " 29  Mortality national comparison                                  442587 non-null  object \n",
      " 30  Mortality national comparison footnote                         131409 non-null  float64\n",
      " 31  Safety of care national comparison                             442587 non-null  object \n",
      " 32  Safety of care national comparison footnote                    199764 non-null  float64\n",
      " 33  Readmission national comparison                                442587 non-null  object \n",
      " 34  Readmission national comparison footnote                       95232 non-null   float64\n",
      " 35  Patient experience national comparison                         442587 non-null  object \n",
      " 36  Patient experience national comparison footnote                129735 non-null  float64\n",
      " 37  Effectiveness of care national comparison                      442587 non-null  object \n",
      " 38  Effectiveness of care national comparison footnote             136989 non-null  float64\n",
      " 39  Timeliness of care national comparison                         442587 non-null  object \n",
      " 40  Timeliness of care national comparison footnote                84630 non-null   float64\n",
      " 41  Efficient use of medical imaging national comparison           442587 non-null  object \n",
      " 42  Efficient use of medical imaging national comparison footnote  157170 non-null  float64\n",
      "dtypes: float64(9), int64(2), object(32)\n",
      "memory usage: 145.2+ MB\n"
     ]
    }
   ],
   "source": [
    "# show data structure\n",
    "df.info()"
   ]
  },
  {
   "cell_type": "code",
   "execution_count": 512,
   "id": "3312e388",
   "metadata": {
    "scrolled": true
   },
   "outputs": [
    {
     "data": {
      "text/plain": [
       "Facility ID                                                       object\n",
       "Facility Name                                                     object\n",
       "Address                                                           object\n",
       "City                                                              object\n",
       "State                                                             object\n",
       "ZIP Code                                                           int64\n",
       "County Name                                                       object\n",
       "Phone Number                                                      object\n",
       "HCAHPS Measure ID                                                 object\n",
       "HCAHPS Question                                                   object\n",
       "HCAHPS Answer Description                                         object\n",
       "Patient Survey Star Rating                                        object\n",
       "Patient Survey Star Rating Footnote                              float64\n",
       "HCAHPS Answer Percent                                             object\n",
       "HCAHPS Answer Percent Footnote                                    object\n",
       "HCAHPS Linear Mean Value                                          object\n",
       "Number of Completed Surveys                                       object\n",
       "Number of Completed Surveys Footnote                              object\n",
       "Survey Response Rate Percent                                      object\n",
       "Survey Response Rate Percent Footnote                             object\n",
       "Start Date                                                        object\n",
       "End Date                                                          object\n",
       "Year                                                               int64\n",
       "Hospital Type                                                     object\n",
       "Hospital Ownership                                                object\n",
       "Emergency Services                                                object\n",
       "Meets criteria for promoting interoperability of EHRs             object\n",
       "Hospital overall rating                                           object\n",
       "Hospital overall rating footnote                                 float64\n",
       "Mortality national comparison                                     object\n",
       "Mortality national comparison footnote                           float64\n",
       "Safety of care national comparison                                object\n",
       "Safety of care national comparison footnote                      float64\n",
       "Readmission national comparison                                   object\n",
       "Readmission national comparison footnote                         float64\n",
       "Patient experience national comparison                            object\n",
       "Patient experience national comparison footnote                  float64\n",
       "Effectiveness of care national comparison                         object\n",
       "Effectiveness of care national comparison footnote               float64\n",
       "Timeliness of care national comparison                            object\n",
       "Timeliness of care national comparison footnote                  float64\n",
       "Efficient use of medical imaging national comparison              object\n",
       "Efficient use of medical imaging national comparison footnote    float64\n",
       "dtype: object"
      ]
     },
     "execution_count": 512,
     "metadata": {},
     "output_type": "execute_result"
    }
   ],
   "source": [
    "# show data types of all columns\n",
    "df.dtypes"
   ]
  },
  {
   "cell_type": "code",
   "execution_count": 513,
   "id": "170aea41",
   "metadata": {},
   "outputs": [
    {
     "name": "stdout",
     "output_type": "stream",
     "text": [
      "['Same as the national average' 'Above the national average'\n",
      " 'Below the national average' 'Not Available']\n",
      "['Same as the national average' 'Below the national average'\n",
      " 'Not Available' 'Above the national average']\n",
      "['Same as the national average' 'Below the national average'\n",
      " 'Not Available' 'Above the national average']\n",
      "['Acute Care Hospitals' 'Critical Access Hospitals' 'Childrens'\n",
      " 'Acute Care - Department of Defense']\n"
     ]
    },
    {
     "data": {
      "text/plain": [
       "array(['2', '4', 'Not Available', '5', '3', '1'], dtype=object)"
      ]
     },
     "execution_count": 513,
     "metadata": {},
     "output_type": "execute_result"
    }
   ],
   "source": [
    "# is data categorical or numerical?\n",
    "print(df['Timeliness of care national comparison'].unique())\n",
    "print(df['Efficient use of medical imaging national comparison'].unique())\n",
    "print(df['Effectiveness of care national comparison'].unique())\n",
    "print(df['Hospital Type'].unique())\n",
    "\n",
    "# check Hospital overall rating data\n",
    "df['Hospital overall rating'].unique()"
   ]
  },
  {
   "cell_type": "code",
   "execution_count": 514,
   "id": "01008a0d",
   "metadata": {},
   "outputs": [
    {
     "name": "stdout",
     "output_type": "stream",
     "text": [
      "['07/01/2018']\n",
      "['06/30/2019']\n"
     ]
    }
   ],
   "source": [
    "# check if data changes over time -> need datetime format?\n",
    "print(df['Start Date'].unique())\n",
    "print(df['End Date'].unique())"
   ]
  },
  {
   "cell_type": "code",
   "execution_count": 515,
   "id": "4f33eb4b",
   "metadata": {},
   "outputs": [],
   "source": [
    "# remove duplicate values\n",
    "df = df.drop_duplicates()"
   ]
  },
  {
   "cell_type": "code",
   "execution_count": 516,
   "id": "8830e146",
   "metadata": {},
   "outputs": [
    {
     "name": "stdout",
     "output_type": "stream",
     "text": [
      "Percentage of Missing Values:\n",
      "Patient Survey Star Rating Footnote                              96.52%\n",
      "Timeliness of care national comparison footnote                  80.88%\n",
      "Readmission national comparison footnote                         78.48%\n",
      "HCAHPS Answer Percent Footnote                                   76.31%\n",
      "Hospital overall rating footnote                                 73.88%\n",
      "Patient experience national comparison footnote                  70.69%\n",
      "Mortality national comparison footnote                           70.31%\n",
      "Survey Response Rate Percent Footnote                            69.41%\n",
      "Number of Completed Surveys Footnote                             69.41%\n",
      "Effectiveness of care national comparison footnote               69.05%\n",
      "Efficient use of medical imaging national comparison footnote    64.49%\n",
      "Safety of care national comparison footnote                      54.86%\n",
      "Meets criteria for promoting interoperability of EHRs            16.85%\n",
      "Hospital Ownership                                                0.00%\n",
      "Safety of care national comparison                                0.00%\n",
      "Readmission national comparison                                   0.00%\n",
      "Patient experience national comparison                            0.00%\n",
      "Mortality national comparison                                     0.00%\n",
      "Effectiveness of care national comparison                         0.00%\n",
      "Timeliness of care national comparison                            0.00%\n",
      "Efficient use of medical imaging national comparison              0.00%\n",
      "Hospital overall rating                                           0.00%\n",
      "Emergency Services                                                0.00%\n",
      "Facility ID                                                       0.00%\n",
      "Hospital Type                                                     0.00%\n",
      "HCAHPS Question                                                   0.00%\n",
      "Address                                                           0.00%\n",
      "City                                                              0.00%\n",
      "State                                                             0.00%\n",
      "ZIP Code                                                          0.00%\n",
      "County Name                                                       0.00%\n",
      "Phone Number                                                      0.00%\n",
      "HCAHPS Measure ID                                                 0.00%\n",
      "HCAHPS Answer Description                                         0.00%\n",
      "Year                                                              0.00%\n",
      "Patient Survey Star Rating                                        0.00%\n",
      "HCAHPS Answer Percent                                             0.00%\n",
      "HCAHPS Linear Mean Value                                          0.00%\n",
      "Number of Completed Surveys                                       0.00%\n",
      "Survey Response Rate Percent                                      0.00%\n",
      "Start Date                                                        0.00%\n",
      "Facility Name                                                     0.00%\n",
      "End Date                                                          0.00%\n",
      "dtype: object\n"
     ]
    }
   ],
   "source": [
    "# Find the percentage of missing values in each column -> need to populate?\n",
    "missing_percentage = (df.isnull().sum() / len(df)) * 100\n",
    "missing_percentage = missing_percentage.sort_values(ascending=False)\n",
    "\n",
    "# Display the result\n",
    "print(\"Percentage of Missing Values:\")\n",
    "print(missing_percentage.apply(lambda x: f\"{x:.2f}%\"))"
   ]
  },
  {
   "cell_type": "code",
   "execution_count": 517,
   "id": "e40c6e54",
   "metadata": {
    "scrolled": true
   },
   "outputs": [
    {
     "data": {
      "text/plain": [
       "MEMORIAL HOSPITAL                              1209\n",
       "COMMUNITY MEMORIAL HOSPITAL                     558\n",
       "ST JOSEPH HOSPITAL                              558\n",
       "GOOD SAMARITAN HOSPITAL                         558\n",
       "ST JOSEPH'S HOSPITAL                            465\n",
       "                                               ... \n",
       "METHODIST HOSPITAL FOR SURGERY                   93\n",
       "MEMORIAL HERMANN SURGICAL HOSPITAL KINGWOOD      93\n",
       "ST MARKS MEDICAL CENTER                          93\n",
       "COMMONWEALTH HEALTH CENTER                       93\n",
       "SOUTHCROSS HOSPITAL                              93\n",
       "Name: Facility Name, Length: 4596, dtype: int64"
      ]
     },
     "execution_count": 517,
     "metadata": {},
     "output_type": "execute_result"
    }
   ],
   "source": [
    "# count and sort the appearences of each Facility\n",
    "df['Facility Name'].value_counts().sort_values(ascending=False)"
   ]
  },
  {
   "cell_type": "markdown",
   "id": "e63e2cce",
   "metadata": {},
   "source": [
    "<h1>3. Exploratory Data Analysis:</h1>"
   ]
  },
  {
   "cell_type": "code",
   "execution_count": 518,
   "id": "9416f658",
   "metadata": {
    "scrolled": true
   },
   "outputs": [
    {
     "data": {
      "image/png": "[encoded data removed]",
      "text/plain": [
       "<Figure size 1080x432 with 1 Axes>"
      ]
     },
     "metadata": {
      "needs_background": "light"
     },
     "output_type": "display_data"
    },
    {
     "data": {
      "image/png": "[encoded data removed]",
      "text/plain": [
       "<Figure size 1080x432 with 1 Axes>"
      ]
     },
     "metadata": {
      "needs_background": "light"
     },
     "output_type": "display_data"
    }
   ],
   "source": [
    "\n",
    "# Explore Geographic Data\n",
    "state_distribution = df['State'].value_counts()\n",
    "city_distribution = df['City'].value_counts()\n",
    "county_distribution = df['County Name'].value_counts()\n",
    "\n",
    "# Visualize Geographic Distribution\n",
    "\n",
    "# State Distribution\n",
    "plt.figure(figsize=(15, 6))\n",
    "sns.barplot(x=state_distribution.index, y=state_distribution.values, palette='Blues')\n",
    "plt.title('Distribution of Facilities by State')\n",
    "plt.xlabel('State')\n",
    "plt.ylabel('Number of Facilities')\n",
    "plt.show()\n",
    "\n",
    "# City Distribution\n",
    "plt.figure(figsize=(15, 6))\n",
    "sns.barplot(x=city_distribution[:10].index, y=city_distribution[:10].values, palette='Reds')\n",
    "plt.title('Top 10 Cities with the Most Facilities')\n",
    "plt.xlabel('City')\n",
    "plt.ylabel('Number of Facilities')\n",
    "plt.show()\n"
   ]
  },
  {
   "cell_type": "code",
   "execution_count": 519,
   "id": "98d90caa",
   "metadata": {
    "scrolled": true
   },
   "outputs": [
    {
     "data": {
      "image/png": "[encoded data removed]",
      "text/plain": [
       "<Figure size 1080x576 with 2 Axes>"
      ]
     },
     "metadata": {
      "needs_background": "light"
     },
     "output_type": "display_data"
    }
   ],
   "source": [
    "# find Hospital overall rating by Hospital type\n",
    "\n",
    "# Create a pivot table for heatmap\n",
    "heatmap_data = df.pivot_table(index='Hospital overall rating', columns='Hospital Type', aggfunc='size', fill_value=0)\n",
    "\n",
    "# Plot heatmap with a cooler color palette\n",
    "plt.figure(figsize=(15, 8))\n",
    "sns.heatmap(heatmap_data, cmap='Greens', annot=True, cbar_kws={'label': 'Intensity'})\n",
    "plt.title('Distribution of Overall Ratings by Hospital Type')\n",
    "plt.xlabel('Hospital Type')\n",
    "plt.ylabel('Overall Rating')\n",
    "plt.show()"
   ]
  },
  {
   "cell_type": "code",
   "execution_count": 520,
   "id": "63976316",
   "metadata": {},
   "outputs": [
    {
     "name": "stdout",
     "output_type": "stream",
     "text": [
      "Percentage of Acute Care Hospitals: 90.62%\n"
     ]
    }
   ],
   "source": [
    "# find percentage of Acute Care Hospitals in the dataset\n",
    "total_hospitals = len(top_rating_hospitals)\n",
    "acute_care_hospitals = len(top_rating_hospitals[top_rating_hospitals['Hospital Type'] == 'Acute Care Hospitals'])\n",
    "\n",
    "percentage_acute_care = (acute_care_hospitals / total_hospitals) * 100\n",
    "\n",
    "print(f\"Percentage of Acute Care Hospitals: {percentage_acute_care:.2f}%\")\n"
   ]
  },
  {
   "cell_type": "markdown",
   "id": "76302c2e",
   "metadata": {},
   "source": [
    "<i>*Acute Care Hospital: a hospital that provides inpatient medical care and other related services for surgery, \n",
    "acute medical conditions or injuries (usually for a short term illness or condition).<i>"
   ]
  },
  {
   "cell_type": "code",
   "execution_count": 522,
   "id": "2419f1c7",
   "metadata": {},
   "outputs": [
    {
     "data": {
      "application/vnd.plotly.v1+json": {
       "config": {
        "plotlyServerURL": "https://plot.ly"
       },
       "data": [
        {
         "coloraxis": "coloraxis",
         "geo": "geo",
         "hovertemplate": "State=%{location}<br>numeric_overall_rating=%{z}<extra></extra>",
         "locationmode": "USA-states",
         "locations": [
          "AK",
          "AL",
          "AR",
          "AS",
          "AZ",
          "CA",
          "CO",
          "CT",
          "DC",
          "DE",
          "FL",
          "GA",
          "GU",
          "HI",
          "IA",
          "ID",
          "IL",
          "IN",
          "KS",
          "KY",
          "LA",
          "MA",
          "MD",
          "ME",
          "MI",
          "MN",
          "MO",
          "MP",
          "MS",
          "MT",
          "NC",
          "ND",
          "NE",
          "NH",
          "NJ",
          "NM",
          "NV",
          "NY",
          "OH",
          "OK",
          "OR",
          "PA",
          "PR",
          "RI",
          "SC",
          "SD",
          "TN",
          "TX",
          "UT",
          "VA",
          "VI",
          "VT",
          "WA",
          "WI",
          "WV",
          "WY"
         ],
         "name": "",
         "type": "choropleth",
         "z": [
          3.4,
          3.039473684210526,
          2.806451612903226,
          null,
          3.0892857142857144,
          3.007042253521127,
          3.8823529411764706,
          2.962962962962963,
          1.8333333333333333,
          2.6666666666666665,
          2.710059171597633,
          2.910891089108911,
          null,
          3.8333333333333335,
          3.75,
          3.892857142857143,
          3.221518987341772,
          3.616822429906542,
          3.4166666666666665,
          3.0126582278481013,
          2.9210526315789473,
          3.125,
          3.090909090909091,
          3.71875,
          3.490740740740741,
          3.8823529411764706,
          3.1555555555555554,
          null,
          2.725806451612903,
          3.72,
          3.247311827956989,
          3.2941176470588234,
          3.6382978723404253,
          3.5,
          2.5625,
          3.096774193548387,
          2.48,
          2.2896551724137932,
          3.5899280575539567,
          3.347826086956522,
          3.9038461538461537,
          3.206896551724138,
          1.375,
          3.3,
          3.2264150943396226,
          3.9444444444444446,
          2.976470588235294,
          3.3450980392156864,
          4.03125,
          3.4743589743589745,
          2.5,
          3.4166666666666665,
          3.537313432835821,
          3.9134615384615383,
          3.15,
          3.5555555555555554
         ]
        }
       ],
       "layout": {
        "coloraxis": {
         "colorbar": {
          "title": {
           "text": "numeric_overall_rating"
          }
         },
         "colorscale": [
          [
           0,
           "#440154"
          ],
          [
           0.1111111111111111,
           "#482878"
          ],
          [
           0.2222222222222222,
           "#3e4989"
          ],
          [
           0.3333333333333333,
           "#31688e"
          ],
          [
           0.4444444444444444,
           "#26828e"
          ],
          [
           0.5555555555555556,
           "#1f9e89"
          ],
          [
           0.6666666666666666,
           "#35b779"
          ],
          [
           0.7777777777777778,
           "#6ece58"
          ],
          [
           0.8888888888888888,
           "#b5de2b"
          ],
          [
           1,
           "#fde725"
          ]
         ]
        },
        "geo": {
         "center": {},
         "domain": {
          "x": [
           0,
           1
          ],
          "y": [
           0,
           1
          ]
         },
         "scope": "usa"
        },
        "legend": {
         "tracegroupgap": 0
        },
        "template": {
         "data": {
          "bar": [
           {
            "error_x": {
             "color": "#2a3f5f"
            },
            "error_y": {
             "color": "#2a3f5f"
            },
            "marker": {
             "line": {
              "color": "#E5ECF6",
              "width": 0.5
             },
             "pattern": {
              "fillmode": "overlay",
              "size": 10,
              "solidity": 0.2
             }
            },
            "type": "bar"
           }
          ],
          "barpolar": [
           {
            "marker": {
             "line": {
              "color": "#E5ECF6",
              "width": 0.5
             },
             "pattern": {
              "fillmode": "overlay",
              "size": 10,
              "solidity": 0.2
             }
            },
            "type": "barpolar"
           }
          ],
          "carpet": [
           {
            "aaxis": {
             "endlinecolor": "#2a3f5f",
             "gridcolor": "white",
             "linecolor": "white",
             "minorgridcolor": "white",
             "startlinecolor": "#2a3f5f"
            },
            "baxis": {
             "endlinecolor": "#2a3f5f",
             "gridcolor": "white",
             "linecolor": "white",
             "minorgridcolor": "white",
             "startlinecolor": "#2a3f5f"
            },
            "type": "carpet"
           }
          ],
          "choropleth": [
           {
            "colorbar": {
             "outlinewidth": 0,
             "ticks": ""
            },
            "type": "choropleth"
           }
          ],
          "contour": [
           {
            "colorbar": {
             "outlinewidth": 0,
             "ticks": ""
            },
            "colorscale": [
             [
              0,
              "#0d0887"
             ],
             [
              0.1111111111111111,
              "#46039f"
             ],
             [
              0.2222222222222222,
              "#7201a8"
             ],
             [
              0.3333333333333333,
              "#9c179e"
             ],
             [
              0.4444444444444444,
              "#bd3786"
             ],
             [
              0.5555555555555556,
              "#d8576b"
             ],
             [
              0.6666666666666666,
              "#ed7953"
             ],
             [
              0.7777777777777778,
              "#fb9f3a"
             ],
             [
              0.8888888888888888,
              "#fdca26"
             ],
             [
              1,
              "#f0f921"
             ]
            ],
            "type": "contour"
           }
          ],
          "contourcarpet": [
           {
            "colorbar": {
             "outlinewidth": 0,
             "ticks": ""
            },
            "type": "contourcarpet"
           }
          ],
          "heatmap": [
           {
            "colorbar": {
             "outlinewidth": 0,
             "ticks": ""
            },
            "colorscale": [
             [
              0,
              "#0d0887"
             ],
             [
              0.1111111111111111,
              "#46039f"
             ],
             [
              0.2222222222222222,
              "#7201a8"
             ],
             [
              0.3333333333333333,
              "#9c179e"
             ],
             [
              0.4444444444444444,
              "#bd3786"
             ],
             [
              0.5555555555555556,
              "#d8576b"
             ],
             [
              0.6666666666666666,
              "#ed7953"
             ],
             [
              0.7777777777777778,
              "#fb9f3a"
             ],
             [
              0.8888888888888888,
              "#fdca26"
             ],
             [
              1,
              "#f0f921"
             ]
            ],
            "type": "heatmap"
           }
          ],
          "heatmapgl": [
           {
            "colorbar": {
             "outlinewidth": 0,
             "ticks": ""
            },
            "colorscale": [
             [
              0,
              "#0d0887"
             ],
             [
              0.1111111111111111,
              "#46039f"
             ],
             [
              0.2222222222222222,
              "#7201a8"
             ],
             [
              0.3333333333333333,
              "#9c179e"
             ],
             [
              0.4444444444444444,
              "#bd3786"
             ],
             [
              0.5555555555555556,
              "#d8576b"
             ],
             [
              0.6666666666666666,
              "#ed7953"
             ],
             [
              0.7777777777777778,
              "#fb9f3a"
             ],
             [
              0.8888888888888888,
              "#fdca26"
             ],
             [
              1,
              "#f0f921"
             ]
            ],
            "type": "heatmapgl"
           }
          ],
          "histogram": [
           {
            "marker": {
             "pattern": {
              "fillmode": "overlay",
              "size": 10,
              "solidity": 0.2
             }
            },
            "type": "histogram"
           }
          ],
          "histogram2d": [
           {
            "colorbar": {
             "outlinewidth": 0,
             "ticks": ""
            },
            "colorscale": [
             [
              0,
              "#0d0887"
             ],
             [
              0.1111111111111111,
              "#46039f"
             ],
             [
              0.2222222222222222,
              "#7201a8"
             ],
             [
              0.3333333333333333,
              "#9c179e"
             ],
             [
              0.4444444444444444,
              "#bd3786"
             ],
             [
              0.5555555555555556,
              "#d8576b"
             ],
             [
              0.6666666666666666,
              "#ed7953"
             ],
             [
              0.7777777777777778,
              "#fb9f3a"
             ],
             [
              0.8888888888888888,
              "#fdca26"
             ],
             [
              1,
              "#f0f921"
             ]
            ],
            "type": "histogram2d"
           }
          ],
          "histogram2dcontour": [
           {
            "colorbar": {
             "outlinewidth": 0,
             "ticks": ""
            },
            "colorscale": [
             [
              0,
              "#0d0887"
             ],
             [
              0.1111111111111111,
              "#46039f"
             ],
             [
              0.2222222222222222,
              "#7201a8"
             ],
             [
              0.3333333333333333,
              "#9c179e"
             ],
             [
              0.4444444444444444,
              "#bd3786"
             ],
             [
              0.5555555555555556,
              "#d8576b"
             ],
             [
              0.6666666666666666,
              "#ed7953"
             ],
             [
              0.7777777777777778,
              "#fb9f3a"
             ],
             [
              0.8888888888888888,
              "#fdca26"
             ],
             [
              1,
              "#f0f921"
             ]
            ],
            "type": "histogram2dcontour"
           }
          ],
          "mesh3d": [
           {
            "colorbar": {
             "outlinewidth": 0,
             "ticks": ""
            },
            "type": "mesh3d"
           }
          ],
          "parcoords": [
           {
            "line": {
             "colorbar": {
              "outlinewidth": 0,
              "ticks": ""
             }
            },
            "type": "parcoords"
           }
          ],
          "pie": [
           {
            "automargin": true,
            "type": "pie"
           }
          ],
          "scatter": [
           {
            "marker": {
             "colorbar": {
              "outlinewidth": 0,
              "ticks": ""
             }
            },
            "type": "scatter"
           }
          ],
          "scatter3d": [
           {
            "line": {
             "colorbar": {
              "outlinewidth": 0,
              "ticks": ""
             }
            },
            "marker": {
             "colorbar": {
              "outlinewidth": 0,
              "ticks": ""
             }
            },
            "type": "scatter3d"
           }
          ],
          "scattercarpet": [
           {
            "marker": {
             "colorbar": {
              "outlinewidth": 0,
              "ticks": ""
             }
            },
            "type": "scattercarpet"
           }
          ],
          "scattergeo": [
           {
            "marker": {
             "colorbar": {
              "outlinewidth": 0,
              "ticks": ""
             }
            },
            "type": "scattergeo"
           }
          ],
          "scattergl": [
           {
            "marker": {
             "colorbar": {
              "outlinewidth": 0,
              "ticks": ""
             }
            },
            "type": "scattergl"
           }
          ],
          "scattermapbox": [
           {
            "marker": {
             "colorbar": {
              "outlinewidth": 0,
              "ticks": ""
             }
            },
            "type": "scattermapbox"
           }
          ],
          "scatterpolar": [
           {
            "marker": {
             "colorbar": {
              "outlinewidth": 0,
              "ticks": ""
             }
            },
            "type": "scatterpolar"
           }
          ],
          "scatterpolargl": [
           {
            "marker": {
             "colorbar": {
              "outlinewidth": 0,
              "ticks": ""
             }
            },
            "type": "scatterpolargl"
           }
          ],
          "scatterternary": [
           {
            "marker": {
             "colorbar": {
              "outlinewidth": 0,
              "ticks": ""
             }
            },
            "type": "scatterternary"
           }
          ],
          "surface": [
           {
            "colorbar": {
             "outlinewidth": 0,
             "ticks": ""
            },
            "colorscale": [
             [
              0,
              "#0d0887"
             ],
             [
              0.1111111111111111,
              "#46039f"
             ],
             [
              0.2222222222222222,
              "#7201a8"
             ],
             [
              0.3333333333333333,
              "#9c179e"
             ],
             [
              0.4444444444444444,
              "#bd3786"
             ],
             [
              0.5555555555555556,
              "#d8576b"
             ],
             [
              0.6666666666666666,
              "#ed7953"
             ],
             [
              0.7777777777777778,
              "#fb9f3a"
             ],
             [
              0.8888888888888888,
              "#fdca26"
             ],
             [
              1,
              "#f0f921"
             ]
            ],
            "type": "surface"
           }
          ],
          "table": [
           {
            "cells": {
             "fill": {
              "color": "#EBF0F8"
             },
             "line": {
              "color": "white"
             }
            },
            "header": {
             "fill": {
              "color": "#C8D4E3"
             },
             "line": {
              "color": "white"
             }
            },
            "type": "table"
           }
          ]
         },
         "layout": {
          "annotationdefaults": {
           "arrowcolor": "#2a3f5f",
           "arrowhead": 0,
           "arrowwidth": 1
          },
          "autotypenumbers": "strict",
          "coloraxis": {
           "colorbar": {
            "outlinewidth": 0,
            "ticks": ""
           }
          },
          "colorscale": {
           "diverging": [
            [
             0,
             "#8e0152"
            ],
            [
             0.1,
             "#c51b7d"
            ],
            [
             0.2,
             "#de77ae"
            ],
            [
             0.3,
             "#f1b6da"
            ],
            [
             0.4,
             "#fde0ef"
            ],
            [
             0.5,
             "#f7f7f7"
            ],
            [
             0.6,
             "#e6f5d0"
            ],
            [
             0.7,
             "#b8e186"
            ],
            [
             0.8,
             "#7fbc41"
            ],
            [
             0.9,
             "#4d9221"
            ],
            [
             1,
             "#276419"
            ]
           ],
           "sequential": [
            [
             0,
             "#0d0887"
            ],
            [
             0.1111111111111111,
             "#46039f"
            ],
            [
             0.2222222222222222,
             "#7201a8"
            ],
            [
             0.3333333333333333,
             "#9c179e"
            ],
            [
             0.4444444444444444,
             "#bd3786"
            ],
            [
             0.5555555555555556,
             "#d8576b"
            ],
            [
             0.6666666666666666,
             "#ed7953"
            ],
            [
             0.7777777777777778,
             "#fb9f3a"
            ],
            [
             0.8888888888888888,
             "#fdca26"
            ],
            [
             1,
             "#f0f921"
            ]
           ],
           "sequentialminus": [
            [
             0,
             "#0d0887"
            ],
            [
             0.1111111111111111,
             "#46039f"
            ],
            [
             0.2222222222222222,
             "#7201a8"
            ],
            [
             0.3333333333333333,
             "#9c179e"
            ],
            [
             0.4444444444444444,
             "#bd3786"
            ],
            [
             0.5555555555555556,
             "#d8576b"
            ],
            [
             0.6666666666666666,
             "#ed7953"
            ],
            [
             0.7777777777777778,
             "#fb9f3a"
            ],
            [
             0.8888888888888888,
             "#fdca26"
            ],
            [
             1,
             "#f0f921"
            ]
           ]
          },
          "colorway": [
           "#636efa",
           "#EF553B",
           "#00cc96",
           "#ab63fa",
           "#FFA15A",
           "#19d3f3",
           "#FF6692",
           "#B6E880",
           "#FF97FF",
           "#FECB52"
          ],
          "font": {
           "color": "#2a3f5f"
          },
          "geo": {
           "bgcolor": "white",
           "lakecolor": "white",
           "landcolor": "#E5ECF6",
           "showlakes": true,
           "showland": true,
           "subunitcolor": "white"
          },
          "hoverlabel": {
           "align": "left"
          },
          "hovermode": "closest",
          "mapbox": {
           "style": "light"
          },
          "paper_bgcolor": "white",
          "plot_bgcolor": "#E5ECF6",
          "polar": {
           "angularaxis": {
            "gridcolor": "white",
            "linecolor": "white",
            "ticks": ""
           },
           "bgcolor": "#E5ECF6",
           "radialaxis": {
            "gridcolor": "white",
            "linecolor": "white",
            "ticks": ""
           }
          },
          "scene": {
           "xaxis": {
            "backgroundcolor": "#E5ECF6",
            "gridcolor": "white",
            "gridwidth": 2,
            "linecolor": "white",
            "showbackground": true,
            "ticks": "",
            "zerolinecolor": "white"
           },
           "yaxis": {
            "backgroundcolor": "#E5ECF6",
            "gridcolor": "white",
            "gridwidth": 2,
            "linecolor": "white",
            "showbackground": true,
            "ticks": "",
            "zerolinecolor": "white"
           },
           "zaxis": {
            "backgroundcolor": "#E5ECF6",
            "gridcolor": "white",
            "gridwidth": 2,
            "linecolor": "white",
            "showbackground": true,
            "ticks": "",
            "zerolinecolor": "white"
           }
          },
          "shapedefaults": {
           "line": {
            "color": "#2a3f5f"
           }
          },
          "ternary": {
           "aaxis": {
            "gridcolor": "white",
            "linecolor": "white",
            "ticks": ""
           },
           "baxis": {
            "gridcolor": "white",
            "linecolor": "white",
            "ticks": ""
           },
           "bgcolor": "#E5ECF6",
           "caxis": {
            "gridcolor": "white",
            "linecolor": "white",
            "ticks": ""
           }
          },
          "title": {
           "x": 0.05
          },
          "xaxis": {
           "automargin": true,
           "gridcolor": "white",
           "linecolor": "white",
           "ticks": "",
           "title": {
            "standoff": 15
           },
           "zerolinecolor": "white",
           "zerolinewidth": 2
          },
          "yaxis": {
           "automargin": true,
           "gridcolor": "white",
           "linecolor": "white",
           "ticks": "",
           "title": {
            "standoff": 15
           },
           "zerolinecolor": "white",
           "zerolinewidth": 2
          }
         }
        },
        "title": {
         "text": "Average Hospital Overall Ratings by State"
        }
       }
      },
      "text/html": [
       "<div>                            <div id=\"a0e3cc0f-d244-4ebf-809c-2fd706d47c7a\" class=\"plotly-graph-div\" style=\"height:525px; width:100%;\"></div>            <script type=\"text/javascript\">                require([\"plotly\"], function(Plotly) {                    window.PLOTLYENV=window.PLOTLYENV || {};                                    if (document.getElementById(\"a0e3cc0f-d244-4ebf-809c-2fd706d47c7a\")) {                    Plotly.newPlot(                        \"a0e3cc0f-d244-4ebf-809c-2fd706d47c7a\",                        [{\"coloraxis\":\"coloraxis\",\"geo\":\"geo\",\"hovertemplate\":\"State=%{location}<br>numeric_overall_rating=%{z}<extra></extra>\",\"locationmode\":\"USA-states\",\"locations\":[\"AK\",\"AL\",\"AR\",\"AS\",\"AZ\",\"CA\",\"CO\",\"CT\",\"DC\",\"DE\",\"FL\",\"GA\",\"GU\",\"HI\",\"IA\",\"ID\",\"IL\",\"IN\",\"KS\",\"KY\",\"LA\",\"MA\",\"MD\",\"ME\",\"MI\",\"MN\",\"MO\",\"MP\",\"MS\",\"MT\",\"NC\",\"ND\",\"NE\",\"NH\",\"NJ\",\"NM\",\"NV\",\"NY\",\"OH\",\"OK\",\"OR\",\"PA\",\"PR\",\"RI\",\"SC\",\"SD\",\"TN\",\"TX\",\"UT\",\"VA\",\"VI\",\"VT\",\"WA\",\"WI\",\"WV\",\"WY\"],\"name\":\"\",\"z\":[3.4,3.039473684210526,2.806451612903226,null,3.0892857142857144,3.007042253521127,3.8823529411764706,2.962962962962963,1.8333333333333333,2.6666666666666665,2.710059171597633,2.910891089108911,null,3.8333333333333335,3.75,3.892857142857143,3.221518987341772,3.616822429906542,3.4166666666666665,3.0126582278481013,2.9210526315789473,3.125,3.090909090909091,3.71875,3.490740740740741,3.8823529411764706,3.1555555555555554,null,2.725806451612903,3.72,3.247311827956989,3.2941176470588234,3.6382978723404253,3.5,2.5625,3.096774193548387,2.48,2.2896551724137932,3.5899280575539567,3.347826086956522,3.9038461538461537,3.206896551724138,1.375,3.3,3.2264150943396226,3.9444444444444446,2.976470588235294,3.3450980392156864,4.03125,3.4743589743589745,2.5,3.4166666666666665,3.537313432835821,3.9134615384615383,3.15,3.5555555555555554],\"type\":\"choropleth\"}],                        {\"template\":{\"data\":{\"bar\":[{\"error_x\":{\"color\":\"#2a3f5f\"},\"error_y\":{\"color\":\"#2a3f5f\"},\"marker\":{\"line\":{\"color\":\"#E5ECF6\",\"width\":0.5},\"pattern\":{\"fillmode\":\"overlay\",\"size\":10,\"solidity\":0.2}},\"type\":\"bar\"}],\"barpolar\":[{\"marker\":{\"line\":{\"color\":\"#E5ECF6\",\"width\":0.5},\"pattern\":{\"fillmode\":\"overlay\",\"size\":10,\"solidity\":0.2}},\"type\":\"barpolar\"}],\"carpet\":[{\"aaxis\":{\"endlinecolor\":\"#2a3f5f\",\"gridcolor\":\"white\",\"linecolor\":\"white\",\"minorgridcolor\":\"white\",\"startlinecolor\":\"#2a3f5f\"},\"baxis\":{\"endlinecolor\":\"#2a3f5f\",\"gridcolor\":\"white\",\"linecolor\":\"white\",\"minorgridcolor\":\"white\",\"startlinecolor\":\"#2a3f5f\"},\"type\":\"carpet\"}],\"choropleth\":[{\"colorbar\":{\"outlinewidth\":0,\"ticks\":\"\"},\"type\":\"choropleth\"}],\"contour\":[{\"colorbar\":{\"outlinewidth\":0,\"ticks\":\"\"},\"colorscale\":[[0.0,\"#0d0887\"],[0.1111111111111111,\"#46039f\"],[0.2222222222222222,\"#7201a8\"],[0.3333333333333333,\"#9c179e\"],[0.4444444444444444,\"#bd3786\"],[0.5555555555555556,\"#d8576b\"],[0.6666666666666666,\"#ed7953\"],[0.7777777777777778,\"#fb9f3a\"],[0.8888888888888888,\"#fdca26\"],[1.0,\"#f0f921\"]],\"type\":\"contour\"}],\"contourcarpet\":[{\"colorbar\":{\"outlinewidth\":0,\"ticks\":\"\"},\"type\":\"contourcarpet\"}],\"heatmap\":[{\"colorbar\":{\"outlinewidth\":0,\"ticks\":\"\"},\"colorscale\":[[0.0,\"#0d0887\"],[0.1111111111111111,\"#46039f\"],[0.2222222222222222,\"#7201a8\"],[0.3333333333333333,\"#9c179e\"],[0.4444444444444444,\"#bd3786\"],[0.5555555555555556,\"#d8576b\"],[0.6666666666666666,\"#ed7953\"],[0.7777777777777778,\"#fb9f3a\"],[0.8888888888888888,\"#fdca26\"],[1.0,\"#f0f921\"]],\"type\":\"heatmap\"}],\"heatmapgl\":[{\"colorbar\":{\"outlinewidth\":0,\"ticks\":\"\"},\"colorscale\":[[0.0,\"#0d0887\"],[0.1111111111111111,\"#46039f\"],[0.2222222222222222,\"#7201a8\"],[0.3333333333333333,\"#9c179e\"],[0.4444444444444444,\"#bd3786\"],[0.5555555555555556,\"#d8576b\"],[0.6666666666666666,\"#ed7953\"],[0.7777777777777778,\"#fb9f3a\"],[0.8888888888888888,\"#fdca26\"],[1.0,\"#f0f921\"]],\"type\":\"heatmapgl\"}],\"histogram\":[{\"marker\":{\"pattern\":{\"fillmode\":\"overlay\",\"size\":10,\"solidity\":0.2}},\"type\":\"histogram\"}],\"histogram2d\":[{\"colorbar\":{\"outlinewidth\":0,\"ticks\":\"\"},\"colorscale\":[[0.0,\"#0d0887\"],[0.1111111111111111,\"#46039f\"],[0.2222222222222222,\"#7201a8\"],[0.3333333333333333,\"#9c179e\"],[0.4444444444444444,\"#bd3786\"],[0.5555555555555556,\"#d8576b\"],[0.6666666666666666,\"#ed7953\"],[0.7777777777777778,\"#fb9f3a\"],[0.8888888888888888,\"#fdca26\"],[1.0,\"#f0f921\"]],\"type\":\"histogram2d\"}],\"histogram2dcontour\":[{\"colorbar\":{\"outlinewidth\":0,\"ticks\":\"\"},\"colorscale\":[[0.0,\"#0d0887\"],[0.1111111111111111,\"#46039f\"],[0.2222222222222222,\"#7201a8\"],[0.3333333333333333,\"#9c179e\"],[0.4444444444444444,\"#bd3786\"],[0.5555555555555556,\"#d8576b\"],[0.6666666666666666,\"#ed7953\"],[0.7777777777777778,\"#fb9f3a\"],[0.8888888888888888,\"#fdca26\"],[1.0,\"#f0f921\"]],\"type\":\"histogram2dcontour\"}],\"mesh3d\":[{\"colorbar\":{\"outlinewidth\":0,\"ticks\":\"\"},\"type\":\"mesh3d\"}],\"parcoords\":[{\"line\":{\"colorbar\":{\"outlinewidth\":0,\"ticks\":\"\"}},\"type\":\"parcoords\"}],\"pie\":[{\"automargin\":true,\"type\":\"pie\"}],\"scatter\":[{\"marker\":{\"colorbar\":{\"outlinewidth\":0,\"ticks\":\"\"}},\"type\":\"scatter\"}],\"scatter3d\":[{\"line\":{\"colorbar\":{\"outlinewidth\":0,\"ticks\":\"\"}},\"marker\":{\"colorbar\":{\"outlinewidth\":0,\"ticks\":\"\"}},\"type\":\"scatter3d\"}],\"scattercarpet\":[{\"marker\":{\"colorbar\":{\"outlinewidth\":0,\"ticks\":\"\"}},\"type\":\"scattercarpet\"}],\"scattergeo\":[{\"marker\":{\"colorbar\":{\"outlinewidth\":0,\"ticks\":\"\"}},\"type\":\"scattergeo\"}],\"scattergl\":[{\"marker\":{\"colorbar\":{\"outlinewidth\":0,\"ticks\":\"\"}},\"type\":\"scattergl\"}],\"scattermapbox\":[{\"marker\":{\"colorbar\":{\"outlinewidth\":0,\"ticks\":\"\"}},\"type\":\"scattermapbox\"}],\"scatterpolar\":[{\"marker\":{\"colorbar\":{\"outlinewidth\":0,\"ticks\":\"\"}},\"type\":\"scatterpolar\"}],\"scatterpolargl\":[{\"marker\":{\"colorbar\":{\"outlinewidth\":0,\"ticks\":\"\"}},\"type\":\"scatterpolargl\"}],\"scatterternary\":[{\"marker\":{\"colorbar\":{\"outlinewidth\":0,\"ticks\":\"\"}},\"type\":\"scatterternary\"}],\"surface\":[{\"colorbar\":{\"outlinewidth\":0,\"ticks\":\"\"},\"colorscale\":[[0.0,\"#0d0887\"],[0.1111111111111111,\"#46039f\"],[0.2222222222222222,\"#7201a8\"],[0.3333333333333333,\"#9c179e\"],[0.4444444444444444,\"#bd3786\"],[0.5555555555555556,\"#d8576b\"],[0.6666666666666666,\"#ed7953\"],[0.7777777777777778,\"#fb9f3a\"],[0.8888888888888888,\"#fdca26\"],[1.0,\"#f0f921\"]],\"type\":\"surface\"}],\"table\":[{\"cells\":{\"fill\":{\"color\":\"#EBF0F8\"},\"line\":{\"color\":\"white\"}},\"header\":{\"fill\":{\"color\":\"#C8D4E3\"},\"line\":{\"color\":\"white\"}},\"type\":\"table\"}]},\"layout\":{\"annotationdefaults\":{\"arrowcolor\":\"#2a3f5f\",\"arrowhead\":0,\"arrowwidth\":1},\"autotypenumbers\":\"strict\",\"coloraxis\":{\"colorbar\":{\"outlinewidth\":0,\"ticks\":\"\"}},\"colorscale\":{\"diverging\":[[0,\"#8e0152\"],[0.1,\"#c51b7d\"],[0.2,\"#de77ae\"],[0.3,\"#f1b6da\"],[0.4,\"#fde0ef\"],[0.5,\"#f7f7f7\"],[0.6,\"#e6f5d0\"],[0.7,\"#b8e186\"],[0.8,\"#7fbc41\"],[0.9,\"#4d9221\"],[1,\"#276419\"]],\"sequential\":[[0.0,\"#0d0887\"],[0.1111111111111111,\"#46039f\"],[0.2222222222222222,\"#7201a8\"],[0.3333333333333333,\"#9c179e\"],[0.4444444444444444,\"#bd3786\"],[0.5555555555555556,\"#d8576b\"],[0.6666666666666666,\"#ed7953\"],[0.7777777777777778,\"#fb9f3a\"],[0.8888888888888888,\"#fdca26\"],[1.0,\"#f0f921\"]],\"sequentialminus\":[[0.0,\"#0d0887\"],[0.1111111111111111,\"#46039f\"],[0.2222222222222222,\"#7201a8\"],[0.3333333333333333,\"#9c179e\"],[0.4444444444444444,\"#bd3786\"],[0.5555555555555556,\"#d8576b\"],[0.6666666666666666,\"#ed7953\"],[0.7777777777777778,\"#fb9f3a\"],[0.8888888888888888,\"#fdca26\"],[1.0,\"#f0f921\"]]},\"colorway\":[\"#636efa\",\"#EF553B\",\"#00cc96\",\"#ab63fa\",\"#FFA15A\",\"#19d3f3\",\"#FF6692\",\"#B6E880\",\"#FF97FF\",\"#FECB52\"],\"font\":{\"color\":\"#2a3f5f\"},\"geo\":{\"bgcolor\":\"white\",\"lakecolor\":\"white\",\"landcolor\":\"#E5ECF6\",\"showlakes\":true,\"showland\":true,\"subunitcolor\":\"white\"},\"hoverlabel\":{\"align\":\"left\"},\"hovermode\":\"closest\",\"mapbox\":{\"style\":\"light\"},\"paper_bgcolor\":\"white\",\"plot_bgcolor\":\"#E5ECF6\",\"polar\":{\"angularaxis\":{\"gridcolor\":\"white\",\"linecolor\":\"white\",\"ticks\":\"\"},\"bgcolor\":\"#E5ECF6\",\"radialaxis\":{\"gridcolor\":\"white\",\"linecolor\":\"white\",\"ticks\":\"\"}},\"scene\":{\"xaxis\":{\"backgroundcolor\":\"#E5ECF6\",\"gridcolor\":\"white\",\"gridwidth\":2,\"linecolor\":\"white\",\"showbackground\":true,\"ticks\":\"\",\"zerolinecolor\":\"white\"},\"yaxis\":{\"backgroundcolor\":\"#E5ECF6\",\"gridcolor\":\"white\",\"gridwidth\":2,\"linecolor\":\"white\",\"showbackground\":true,\"ticks\":\"\",\"zerolinecolor\":\"white\"},\"zaxis\":{\"backgroundcolor\":\"#E5ECF6\",\"gridcolor\":\"white\",\"gridwidth\":2,\"linecolor\":\"white\",\"showbackground\":true,\"ticks\":\"\",\"zerolinecolor\":\"white\"}},\"shapedefaults\":{\"line\":{\"color\":\"#2a3f5f\"}},\"ternary\":{\"aaxis\":{\"gridcolor\":\"white\",\"linecolor\":\"white\",\"ticks\":\"\"},\"baxis\":{\"gridcolor\":\"white\",\"linecolor\":\"white\",\"ticks\":\"\"},\"bgcolor\":\"#E5ECF6\",\"caxis\":{\"gridcolor\":\"white\",\"linecolor\":\"white\",\"ticks\":\"\"}},\"title\":{\"x\":0.05},\"xaxis\":{\"automargin\":true,\"gridcolor\":\"white\",\"linecolor\":\"white\",\"ticks\":\"\",\"title\":{\"standoff\":15},\"zerolinecolor\":\"white\",\"zerolinewidth\":2},\"yaxis\":{\"automargin\":true,\"gridcolor\":\"white\",\"linecolor\":\"white\",\"ticks\":\"\",\"title\":{\"standoff\":15},\"zerolinecolor\":\"white\",\"zerolinewidth\":2}}},\"geo\":{\"domain\":{\"x\":[0.0,1.0],\"y\":[0.0,1.0]},\"center\":{},\"scope\":\"usa\"},\"coloraxis\":{\"colorbar\":{\"title\":{\"text\":\"numeric_overall_rating\"}},\"colorscale\":[[0.0,\"#440154\"],[0.1111111111111111,\"#482878\"],[0.2222222222222222,\"#3e4989\"],[0.3333333333333333,\"#31688e\"],[0.4444444444444444,\"#26828e\"],[0.5555555555555556,\"#1f9e89\"],[0.6666666666666666,\"#35b779\"],[0.7777777777777778,\"#6ece58\"],[0.8888888888888888,\"#b5de2b\"],[1.0,\"#fde725\"]]},\"legend\":{\"tracegroupgap\":0},\"title\":{\"text\":\"Average Hospital Overall Ratings by State\"}},                        {\"responsive\": true}                    ).then(function(){\n",
       "                            \n",
       "var gd = document.getElementById('a0e3cc0f-d244-4ebf-809c-2fd706d47c7a');\n",
       "var x = new MutationObserver(function (mutations, observer) {{\n",
       "        var display = window.getComputedStyle(gd).display;\n",
       "        if (!display || display === 'none') {{\n",
       "            console.log([gd, 'removed!']);\n",
       "            Plotly.purge(gd);\n",
       "            observer.disconnect();\n",
       "        }}\n",
       "}});\n",
       "\n",
       "// Listen for the removal of the full notebook cells\n",
       "var notebookContainer = gd.closest('#notebook-container');\n",
       "if (notebookContainer) {{\n",
       "    x.observe(notebookContainer, {childList: true});\n",
       "}}\n",
       "\n",
       "// Listen for the clearing of the current output cell\n",
       "var outputEl = gd.closest('.output');\n",
       "if (outputEl) {{\n",
       "    x.observe(outputEl, {childList: true});\n",
       "}}\n",
       "\n",
       "                        })                };                });            </script>        </div>"
      ]
     },
     "metadata": {},
     "output_type": "display_data"
    }
   ],
   "source": [
    "import plotly.express as px\n",
    "import pandas as pd\n",
    "\n",
    "df['numeric_overall_rating'] = pd.to_numeric(df['Hospital overall rating'], errors='coerce')\n",
    "\n",
    "# Grouping the DataFrame by State and calculating the mean overall rating\n",
    "state_avg_rating = df.groupby('State')['numeric_overall_rating'].mean().reset_index()\n",
    "\n",
    "# Plotting the choropleth map\n",
    "fig = px.choropleth(\n",
    "    state_avg_rating,\n",
    "    locations='State',\n",
    "    locationmode=\"USA-states\",\n",
    "    color='numeric_overall_rating',\n",
    "    color_continuous_scale='viridis',\n",
    "    scope=\"usa\",\n",
    "    title='Average Hospital Overall Ratings by State'\n",
    ")\n",
    "\n",
    "# Show the map\n",
    "fig.show()\n"
   ]
  },
  {
   "cell_type": "code",
   "execution_count": 523,
   "id": "2a171140",
   "metadata": {},
   "outputs": [
    {
     "data": {
      "text/html": [
       "<div>\n",
       "<style scoped>\n",
       "    .dataframe tbody tr th:only-of-type {\n",
       "        vertical-align: middle;\n",
       "    }\n",
       "\n",
       "    .dataframe tbody tr th {\n",
       "        vertical-align: top;\n",
       "    }\n",
       "\n",
       "    .dataframe thead th {\n",
       "        text-align: right;\n",
       "    }\n",
       "</style>\n",
       "<table border=\"1\" class=\"dataframe\">\n",
       "  <thead>\n",
       "    <tr style=\"text-align: right;\">\n",
       "      <th></th>\n",
       "      <th>State</th>\n",
       "      <th>Facility Name</th>\n",
       "      <th>numeric_overall_rating</th>\n",
       "    </tr>\n",
       "  </thead>\n",
       "  <tbody>\n",
       "    <tr>\n",
       "      <th>400831</th>\n",
       "      <td>VA</td>\n",
       "      <td>NORTON COMMUNITY HOSPITAL</td>\n",
       "      <td>5.0</td>\n",
       "    </tr>\n",
       "    <tr>\n",
       "      <th>425751</th>\n",
       "      <td>WI</td>\n",
       "      <td>SAUK PRAIRIE HOSPITAL</td>\n",
       "      <td>5.0</td>\n",
       "    </tr>\n",
       "    <tr>\n",
       "      <th>33476</th>\n",
       "      <td>CA</td>\n",
       "      <td>SEQUOIA HOSPITAL</td>\n",
       "      <td>5.0</td>\n",
       "    </tr>\n",
       "    <tr>\n",
       "      <th>396319</th>\n",
       "      <td>UT</td>\n",
       "      <td>DIXIE REGIONAL MEDICAL CENTER</td>\n",
       "      <td>5.0</td>\n",
       "    </tr>\n",
       "    <tr>\n",
       "      <th>191103</th>\n",
       "      <td>MI</td>\n",
       "      <td>BEAUMONT HOSPITAL - GROSSE POINTE</td>\n",
       "      <td>5.0</td>\n",
       "    </tr>\n",
       "    <tr>\n",
       "      <th>260350</th>\n",
       "      <td>NM</td>\n",
       "      <td>NOR-LEA HOSPITAL DISTRICT</td>\n",
       "      <td>5.0</td>\n",
       "    </tr>\n",
       "    <tr>\n",
       "      <th>249403</th>\n",
       "      <td>NH</td>\n",
       "      <td>EXETER HOSPITAL INC</td>\n",
       "      <td>5.0</td>\n",
       "    </tr>\n",
       "    <tr>\n",
       "      <th>292838</th>\n",
       "      <td>OH</td>\n",
       "      <td>WAYNE HEALTHCARE</td>\n",
       "      <td>5.0</td>\n",
       "    </tr>\n",
       "    <tr>\n",
       "      <th>88628</th>\n",
       "      <td>GA</td>\n",
       "      <td>UNION GENERAL HOSPITAL</td>\n",
       "      <td>5.0</td>\n",
       "    </tr>\n",
       "    <tr>\n",
       "      <th>383346</th>\n",
       "      <td>TX</td>\n",
       "      <td>BAYLOR SCOTT &amp; WHITE HEART &amp; VASCULAR HOSPITAL...</td>\n",
       "      <td>5.0</td>\n",
       "    </tr>\n",
       "  </tbody>\n",
       "</table>\n",
       "</div>"
      ],
      "text/plain": [
       "       State                                      Facility Name  \\\n",
       "400831    VA                          NORTON COMMUNITY HOSPITAL   \n",
       "425751    WI                              SAUK PRAIRIE HOSPITAL   \n",
       "33476     CA                                   SEQUOIA HOSPITAL   \n",
       "396319    UT                      DIXIE REGIONAL MEDICAL CENTER   \n",
       "191103    MI                  BEAUMONT HOSPITAL - GROSSE POINTE   \n",
       "260350    NM                          NOR-LEA HOSPITAL DISTRICT   \n",
       "249403    NH                                EXETER HOSPITAL INC   \n",
       "292838    OH                                   WAYNE HEALTHCARE   \n",
       "88628     GA                             UNION GENERAL HOSPITAL   \n",
       "383346    TX  BAYLOR SCOTT & WHITE HEART & VASCULAR HOSPITAL...   \n",
       "\n",
       "        numeric_overall_rating  \n",
       "400831                     5.0  \n",
       "425751                     5.0  \n",
       "33476                      5.0  \n",
       "396319                     5.0  \n",
       "191103                     5.0  \n",
       "260350                     5.0  \n",
       "249403                     5.0  \n",
       "292838                     5.0  \n",
       "88628                      5.0  \n",
       "383346                     5.0  "
      ]
     },
     "execution_count": 523,
     "metadata": {},
     "output_type": "execute_result"
    }
   ],
   "source": [
    "# sort hospitals by overall rating\n",
    "top_rating_hospitals = (\n",
    "    df.sort_values(by='numeric_overall_rating', ascending=False)\n",
    "      .groupby('State')\n",
    "      .head()\n",
    "      .drop_duplicates(subset='Facility Name')\n",
    ")\n",
    "\n",
    "# Display the Top 10\n",
    "top_rating_hospitals[['State', 'Facility Name', 'numeric_overall_rating']].head(10)"
   ]
  },
  {
   "cell_type": "code",
   "execution_count": 524,
   "id": "ec902591",
   "metadata": {
    "scrolled": true
   },
   "outputs": [
    {
     "name": "stdout",
     "output_type": "stream",
     "text": [
      "Percentage of non-NaN values in:\n",
      "- Patient Survey Star Rating: 8.35%\n",
      "- Hospital overall rating': 75.14%\n"
     ]
    }
   ],
   "source": [
    "# which type of rating is more reliable? Survey Rating or Overall Rating\n",
    "total_rows = len(df)\n",
    "\n",
    "# convert survey rating to numeric\n",
    "df['numeric_survey_rating'] = pd.to_numeric(df['Patient Survey Star Rating'], errors='coerce')\n",
    "\n",
    "# Calculate percentages\n",
    "survey_percentage = (df['numeric_survey_rating'].count() / total_rows) * 100\n",
    "overall_rating_percentage = (df['numeric_overall_rating'].count() / total_rows) * 100\n",
    "\n",
    "# Print percentages\n",
    "print(\"Percentage of non-NaN values in:\")\n",
    "print(f\"- Patient Survey Star Rating: {survey_percentage:.2f}%\")\n",
    "print(f\"- Hospital overall rating': {overall_rating_percentage:.2f}%\")\n"
   ]
  },
  {
   "cell_type": "code",
   "execution_count": 525,
   "id": "94ad94ab",
   "metadata": {},
   "outputs": [
    {
     "data": {
      "text/plain": [
       "array(['Y', nan], dtype=object)"
      ]
     },
     "execution_count": 525,
     "metadata": {},
     "output_type": "execute_result"
    }
   ],
   "source": [
    "df['Meets criteria for promoting interoperability of EHRs'].unique()"
   ]
  },
  {
   "cell_type": "code",
   "execution_count": 526,
   "id": "206b1911",
   "metadata": {},
   "outputs": [
    {
     "name": "stdout",
     "output_type": "stream",
     "text": [
      "Percentage of facilities meets criteria for promoting interoperability of EHRs: 83.15%\n"
     ]
    }
   ],
   "source": [
    "# portion of hospitals meet EHR Criteria?\n",
    "EHR_percentage = (df['Meets criteria for promoting interoperability of EHRs'].count() / total_rows) * 100\n",
    "\n",
    "print(f\"Percentage of facilities meets criteria for promoting interoperability of EHRs: {EHR_percentage:.2f}%\")"
   ]
  },
  {
   "cell_type": "markdown",
   "id": "6ed5da68",
   "metadata": {},
   "source": [
    "<i>*Electronic Health Record (EHR) is an electronic version of a patients medical history, that is maintained by the provider over time, and may include all of the key administrative clinical data relevant to that persons care under a particular provider, including demographics, progress notes, problems, medications, ...</i>"
   ]
  },
  {
   "cell_type": "code",
   "execution_count": 527,
   "id": "c35dc6c8",
   "metadata": {},
   "outputs": [
    {
     "data": {
      "text/plain": [
       "<AxesSubplot:xlabel='Emergency Services', ylabel='count'>"
      ]
     },
     "execution_count": 527,
     "metadata": {},
     "output_type": "execute_result"
    },
    {
     "data": {
      "image/png": "[encoded data removed]",
      "text/plain": [
       "<Figure size 1080x576 with 1 Axes>"
      ]
     },
     "metadata": {
      "needs_background": "light"
     },
     "output_type": "display_data"
    }
   ],
   "source": [
    "# emergency services in Top Rated Hospitals?\n",
    "plt.figure(figsize=(15,8))\n",
    "sns.countplot(x='Emergency Services',data=top_rating_hospitals.head(50))"
   ]
  },
  {
   "cell_type": "code",
   "execution_count": 528,
   "id": "788e4934",
   "metadata": {},
   "outputs": [
    {
     "data": {
      "text/plain": [
       "array(['Below the national average', 'Same as the national average',\n",
       "       'Not Available', 'Above the national average'], dtype=object)"
      ]
     },
     "execution_count": 528,
     "metadata": {},
     "output_type": "execute_result"
    }
   ],
   "source": [
    "df['Mortality national comparison'].unique()"
   ]
  },
  {
   "cell_type": "code",
   "execution_count": 529,
   "id": "b9aba5ef",
   "metadata": {},
   "outputs": [
    {
     "data": {
      "image/png": "[encoded data removed]",
      "text/plain": [
       "<Figure size 1080x1152 with 2 Axes>"
      ]
     },
     "metadata": {
      "needs_background": "light"
     },
     "output_type": "display_data"
    }
   ],
   "source": [
    "import seaborn as sns\n",
    "import matplotlib.pyplot as plt\n",
    "\n",
    "# Mortality Rate of Top Rated Hospitals and All Hospitals\n",
    "fig, axes = plt.subplots(nrows=2, figsize=(15, 16))\n",
    "\n",
    "# First subplot (Top Rated Hospitals)\n",
    "sns.countplot(\n",
    "    data=top_hospitals_by_state.head(100),\n",
    "    x='Mortality national comparison',\n",
    "    order=df['Mortality national comparison'].value_counts().index,\n",
    "    ax=axes[0],\n",
    "    palette='Greens'  # Choose a color palette for the top-rated hospitals\n",
    ")\n",
    "axes[0].set_title('Count of Mortality National Comparison of Top Rated Hospitals')\n",
    "axes[0].set_xlabel('Mortality National Comparison')\n",
    "axes[0].set_ylabel('Count')\n",
    "\n",
    "# Second subplot (All Hospitals)\n",
    "sns.countplot(\n",
    "    data=df,\n",
    "    x='Mortality national comparison',\n",
    "    order=df['Mortality national comparison'].value_counts().index,\n",
    "    ax=axes[1],\n",
    "    palette='Oranges'  # Choose a different color palette for all hospitals\n",
    ")\n",
    "axes[1].set_title('Count of Mortality National Comparison of All Hospitals')\n",
    "axes[1].set_xlabel('Mortality National Comparison')\n",
    "axes[1].set_ylabel('Count')\n",
    "\n",
    "plt.tight_layout()\n",
    "plt.show()\n"
   ]
  },
  {
   "cell_type": "code",
   "execution_count": 530,
   "id": "4ad1e52b",
   "metadata": {},
   "outputs": [
    {
     "data": {
      "text/plain": [
       "93"
      ]
     },
     "execution_count": 530,
     "metadata": {},
     "output_type": "execute_result"
    }
   ],
   "source": [
    "# how many questions were asked?\n",
    "df['HCAHPS Question'].nunique()"
   ]
  },
  {
   "cell_type": "code",
   "execution_count": 531,
   "id": "ee67080a",
   "metadata": {},
   "outputs": [
    {
     "name": "stdout",
     "output_type": "stream",
     "text": [
      "Nurses Questions:\n",
      "\n",
      "Question: Patients who reported that their nurses \"Always\" communicated well, Average Answer Percentage: 80.67%\n",
      "\n",
      "Question: Patients who reported that their nurses \"Sometimes\" or \"Never\" communicated well, Average Answer Percentage: 4.11%\n",
      "\n",
      "Question: Patients who reported that their nurses \"Usually\" communicated well, Average Answer Percentage: 15.22%\n",
      "\n",
      "Question: Nurse communication - linear mean score, Average Answer Percentage: nan%\n",
      "\n",
      "Question: Nurse communication - star rating, Average Answer Percentage: nan%\n",
      "\n",
      "Question: Patients who reported that their nurses \"Always\" treated them with courtesy and respect, Average Answer Percentage: 86.82%\n",
      "\n",
      "Question: Patients who reported that their nurses \"Sometimes\" or \"Never\"  treated them with courtesy and respect, Average Answer Percentage: 2.92%\n",
      "\n",
      "Question: Patients who reported that their nurses \"Usually\"  treated them with courtesy and respect, Average Answer Percentage: 10.26%\n",
      "\n",
      "Question: Patients who reported that their nurses \"Always\" listened carefully to them, Average Answer Percentage: 77.52%\n",
      "\n",
      "Question: Patients who reported that their nurses \"Sometimes\" or \"Never\" listened carefully to them, Average Answer Percentage: 4.71%\n",
      "\n",
      "Question: Patients who reported that their nurses \"Usually\" listened carefully to them, Average Answer Percentage: 17.77%\n",
      "\n",
      "Question: Patients who reported that their nurses \"Always\" explained things in a way they could understand, Average Answer Percentage: 76.66%\n",
      "\n",
      "Question: Patients who reported that their nurses \"Sometimes\" or \"Never\" explained things in a way they could understand, Average Answer Percentage: 5.00%\n",
      "\n",
      "Question: Patients who reported that their nurses \"Usually\" explained things in a way they could understand, Average Answer Percentage: 18.35%\n",
      "\n",
      "Doctors Questions:\n",
      "\n",
      "Question: Patients who reported that their doctors \"Always\" communicated well, Average Answer Percentage: 81.37%\n",
      "\n",
      "Question: Patients who reported that their doctors \"Sometimes\" or \"Never\" communicated well, Average Answer Percentage: 4.54%\n",
      "\n",
      "Question: Patients who reported that their doctors \"Usually\" communicated well, Average Answer Percentage: 14.09%\n",
      "\n",
      "Question: Doctor communication - linear mean score, Average Answer Percentage: nan%\n",
      "\n",
      "Question: Doctor communication - star rating, Average Answer Percentage: nan%\n",
      "\n",
      "Question: Patients who reported that their doctors \"Always\" treated them with courtesy and respect, Average Answer Percentage: 87.04%\n",
      "\n",
      "Question: Patients who reported that their doctors \"Sometimes\" or \"Never\"  treated them with courtesy and respect, Average Answer Percentage: 3.15%\n",
      "\n",
      "Question: Patients who reported that their doctors \"Usually\"  treated them with courtesy and respect, Average Answer Percentage: 9.81%\n",
      "\n",
      "Question: Patients who reported that their doctors \"Always\" listened carefully to them, Average Answer Percentage: 79.33%\n",
      "\n",
      "Question: Patients who reported that their doctors \"Sometimes\" or \"Never\" listened carefully to them, Average Answer Percentage: 5.27%\n",
      "\n",
      "Question: Patients who reported that their doctors \"Usually\" listened carefully to them, Average Answer Percentage: 15.40%\n",
      "\n",
      "Question: Patients who reported that their doctors \"Always\" explained things in a way they could understand, Average Answer Percentage: 76.58%\n",
      "\n",
      "Question: Patients who reported that their doctors \"Sometimes\" or \"Never\" explained things in a way they could understand, Average Answer Percentage: 5.51%\n",
      "\n",
      "Question: Patients who reported that their doctors \"Usually\" explained things in a way they could understand, Average Answer Percentage: 17.91%\n",
      "\n",
      "Staffs Questions:\n",
      "\n",
      "Question: Staff responsiveness - linear mean score, Average Answer Percentage: nan%\n",
      "\n",
      "Question: Staff responsiveness - star rating, Average Answer Percentage: nan%\n",
      "\n",
      "Question: Patients who reported that staff \"Always\" explained about medicines before giving it to them, Average Answer Percentage: 65.57%\n",
      "\n",
      "Question: Patients who reported that staff \"Sometimes\" or \"Never\" explained about medicines before giving it to them, Average Answer Percentage: 17.02%\n",
      "\n",
      "Question: Patients who reported that staff \"Usually\" explained about medicines before giving it to them, Average Answer Percentage: 17.41%\n",
      "\n",
      "Question: Patients who reported that when receiving new medication the staff \"Always\" communicated what the medication was for, Average Answer Percentage: 78.49%\n",
      "\n",
      "Question: Patients who reported that when receiving new medication the staff \"Sometimes\" or \"Never\" communicated what the medication was for, Average Answer Percentage: 7.80%\n",
      "\n",
      "Question: Patients who reported that when receiving new medication the staff \"Usually\" communicated what the medication was for., Average Answer Percentage: 13.71%\n",
      "\n",
      "Question: Patients who reported that when receiving new medication the staff \"Always\" discussed possible side effects, Average Answer Percentage: 51.91%\n",
      "\n",
      "Question: Patients who reported that when receiving new medication the staff \"Sometimes\" or \"Never\" discussed possible side effects, Average Answer Percentage: 26.92%\n",
      "\n",
      "Question: Patients who reported that when receiving new medication the staff \"Usually\" discussed possible side effects, Average Answer Percentage: 21.16%\n",
      "\n",
      "Question: Patients who \"Agree\" that the staff took my preferences into account when determining my health care needs, Average Answer Percentage: 47.41%\n",
      "\n",
      "Question: Patients who \"Disagree\" or \"Strongly Disagree\" that the staff took my preferences into account when determining my health care needs, Average Answer Percentage: 6.61%\n",
      "\n",
      "Question: Patients who \"Strongly Agree\" that the staff took my preferences into account when determining my health care needs, Average Answer Percentage: 45.97%\n",
      "\n",
      "Other Questions:\n",
      "\n",
      "Question: Patients who reported that they \"Always\" received help as soon as they wanted, Average Answer Percentage: 69.50%\n",
      "\n",
      "Question: Patients who reported that they \"Sometimes\" or \"Never\" received help as soon as they wanted, Average Answer Percentage: 8.46%\n",
      "\n",
      "Question: Patients who reported that they \"Usually\" received help as soon as they wanted, Average Answer Percentage: 22.04%\n",
      "\n",
      "Question: Patients who reported that they \"Always\" received help after using the call button as soon as they wanted, Average Answer Percentage: 67.35%\n",
      "\n",
      "Question: Patients who reported that they \"Sometimes\" or \"Never\" received help after using the call button as soon as they wanted, Average Answer Percentage: 8.23%\n",
      "\n",
      "Question: Patients who reported that they \"Usually\" received help after using the call button as soon as they wanted, Average Answer Percentage: 24.42%\n",
      "\n",
      "Question: Patients who reported that they \"Always\" received bathroom help as soon as they wanted, Average Answer Percentage: 69.82%\n",
      "\n",
      "Question: Patients who reported that they \"Sometimes\" or \"Never\" received bathroom help as soon as they wanted, Average Answer Percentage: 9.19%\n",
      "\n",
      "Question: Patients who reported that they \"Usually\" received bathroom help as soon as they wanted, Average Answer Percentage: 20.98%\n",
      "\n",
      "Question: Communication about medicines - linear mean score, Average Answer Percentage: nan%\n",
      "\n",
      "Question: Communication about medicines - star rating, Average Answer Percentage: nan%\n",
      "\n",
      "Question: Patients who reported that NO, they were not given information about what to do during their recovery at home, Average Answer Percentage: 12.98%\n",
      "\n",
      "Question: Patients who reported that YES, they were given information about what to do during their recovery at home, Average Answer Percentage: 87.02%\n",
      "\n",
      "Question: Discharge information - linear mean score, Average Answer Percentage: nan%\n",
      "\n",
      "Question: Discharge information - star rating, Average Answer Percentage: nan%\n",
      "\n",
      "Question: Patients who reported that NO, they did not discuss whether they would need help after discharge, Average Answer Percentage: 15.11%\n",
      "\n",
      "Question: Patients who reported that YES, they did discuss whether they would need help after discharge, Average Answer Percentage: 84.89%\n",
      "\n",
      "Question: Patients who reported that NO, they did not receive written information about possible symptoms to look out for after discharge, Average Answer Percentage: 10.91%\n",
      "\n",
      "Question: Patients who reported that YES, they did receive written information about possible symptoms to look out for after discharge, Average Answer Percentage: 89.09%\n",
      "\n",
      "Question: Patients who \"Agree\" they understood their care when they left the hospital, Average Answer Percentage: 41.88%\n",
      "\n",
      "Question: Patients who \"Disagree\" or \"Strongly Disagree\" they understood their care when they left the hospital, Average Answer Percentage: 5.01%\n",
      "\n",
      "Question: Patients who \"Strongly Agree\" they understood their care when they left the hospital, Average Answer Percentage: 53.11%\n",
      "\n",
      "Question: Care transition - linear mean score, Average Answer Percentage: nan%\n",
      "\n",
      "Question: Care transition - star rating, Average Answer Percentage: nan%\n",
      "\n",
      "Question: Patients who \"Agree\" that they understood their responsiblities in managing their health, Average Answer Percentage: 43.21%\n",
      "\n",
      "Question: Patients who \"Disagree\" or \"Strongly Disagree\" that they understood their responsiblities in managing their health, Average Answer Percentage: 4.54%\n",
      "\n",
      "Question: Patients who \"Strongly Agree\" that they understood their responsiblities in managing their health, Average Answer Percentage: 52.24%\n",
      "\n",
      "Question: Patients who \"Agree\" that they understood the purposes of their medications when leaving the hospital, Average Answer Percentage: 35.63%\n",
      "\n",
      "Question: Patients who \"Disagree\" or \"Strongly Disagree\" that they understood the purposes of their medications when leaving the hospital, Average Answer Percentage: 4.38%\n",
      "\n",
      "Question: Patients who \"Strongly Agree\" that they understood the purposes of their medications when leaving the hospital, Average Answer Percentage: 59.99%\n",
      "\n",
      "Question: Patients who reported that their room and bathroom were \"Always\" clean, Average Answer Percentage: 75.28%\n",
      "\n",
      "Question: Patients who reported that their room and bathroom were \"Sometimes\" or \"Never\" clean, Average Answer Percentage: 7.51%\n",
      "\n",
      "Question: Patients who reported that their room and bathroom were \"Usually\" clean, Average Answer Percentage: 17.22%\n",
      "\n",
      "Question: Cleanliness - linear mean score, Average Answer Percentage: nan%\n",
      "\n",
      "Question: Cleanliness - star rating, Average Answer Percentage: nan%\n",
      "\n",
      "Question: Patients who reported that the area around their room was \"Always\" quiet at night, Average Answer Percentage: 61.47%\n",
      "\n",
      "Question: Patients who reported that the area around their room was \"Sometimes\" or \"Never\" quiet at night, Average Answer Percentage: 9.67%\n",
      "\n",
      "Question: Patients who reported that the area around their room was \"Usually\" quiet at night, Average Answer Percentage: 28.86%\n",
      "\n",
      "Question: Quietness - linear mean score, Average Answer Percentage: nan%\n",
      "\n",
      "Question: Quietness - star rating, Average Answer Percentage: nan%\n",
      "\n",
      "Question: Patients who gave their hospital a rating of 6 or lower on a scale from 0 (lowest) to 10 (highest), Average Answer Percentage: 7.57%\n",
      "\n",
      "Question: Patients who gave their hospital a rating of 7 or 8 on a scale from 0 (lowest) to 10 (highest), Average Answer Percentage: 19.78%\n",
      "\n",
      "Question: Patients who gave their hospital a rating of 9 or 10 on a scale from 0 (lowest) to 10 (highest), Average Answer Percentage: 72.64%\n",
      "\n",
      "Question: Overall hospital rating - linear mean score, Average Answer Percentage: nan%\n",
      "\n",
      "Question: Overall hospital rating - star rating, Average Answer Percentage: nan%\n",
      "\n",
      "Question: Patients who reported NO, they would probably not or definitely not recommend the hospital, Average Answer Percentage: 5.01%\n",
      "\n",
      "Question: Patients who reported YES, they would definitely recommend the hospital, Average Answer Percentage: 71.78%\n",
      "\n",
      "Question: Patients who reported YES, they would probably recommend the hospital, Average Answer Percentage: 23.21%\n",
      "\n",
      "Question: Recommend hospital - linear mean score, Average Answer Percentage: nan%\n",
      "\n",
      "Question: Recommend hospital - star rating, Average Answer Percentage: nan%\n",
      "\n",
      "Question: Summary star rating, Average Answer Percentage: nan%\n",
      "\n"
     ]
    }
   ],
   "source": [
    "# see the HCAHPS Questions for Nurses, Doctors, Staffs, and Others and Answer Percentages\n",
    "\n",
    "# Convert 'HCAHPS Answer Percent' column to numeric, coercing errors to NaN\n",
    "df['HCAHPS Answer Percent'] = pd.to_numeric(df['HCAHPS Answer Percent'], errors='coerce')\n",
    "\n",
    "average_answer_percentages = {'Nurses Questions': [], 'Doctors Questions': [], 'Staffs Questions': [], 'Other Questions': []}\n",
    "\n",
    "# Iterate through each unique question\n",
    "for question in df['HCAHPS Question'].unique():\n",
    "    # Filter DataFrame for the specific question\n",
    "    question_df = df[df['HCAHPS Question'] == question]\n",
    "    \n",
    "    # Calculate the average Answer Percentage for the question\n",
    "    average_percentage = question_df['HCAHPS Answer Percent'].mean()\n",
    "    \n",
    "    # Categorize the question based on keywords\n",
    "    if 'nurse' in question.lower():\n",
    "        category = 'Nurses Questions'\n",
    "    elif 'doctor' in question.lower():\n",
    "        category = 'Doctors Questions'\n",
    "    elif 'staff' in question.lower():\n",
    "        category = 'Staffs Questions'\n",
    "    else:\n",
    "        category = 'Other Questions'\n",
    "    \n",
    "    # Store the result in the corresponding category\n",
    "    average_answer_percentages[category].append((question, average_percentage))\n",
    "\n",
    "# Display the average Answer Percentages for each category\n",
    "for category, questions in average_answer_percentages.items():\n",
    "    print(f\"{category}:\\n\")\n",
    "    for question, avg_percentage in questions:\n",
    "        print(f\"Question: {question}, Average Answer Percentage: {avg_percentage:.2f}%\\n\")\n"
   ]
  },
  {
   "cell_type": "code",
   "execution_count": 532,
   "id": "b2a56537",
   "metadata": {},
   "outputs": [
    {
     "data": {
      "image/png": "[encoded data removed]",
      "text/plain": [
       "<Figure size 1080x576 with 1 Axes>"
      ]
     },
     "metadata": {
      "needs_background": "light"
     },
     "output_type": "display_data"
    }
   ],
   "source": [
    "# Readmission\n",
    "plt.figure(figsize=(15, 8))\n",
    "sns.violinplot(x='Readmission national comparison', y='numeric_overall_rating', data=df, palette='Paired')\n",
    "plt.title('Violin Plot of Overall Rating across Safety of Readmission national comparison Levels')\n",
    "plt.xlabel('Readmission national comparison')\n",
    "plt.ylabel('Overall Rating')\n",
    "plt.show()\n"
   ]
  },
  {
   "cell_type": "code",
   "execution_count": 533,
   "id": "d26f1d6f",
   "metadata": {},
   "outputs": [
    {
     "data": {
      "image/png": "[encoded data removed]",
      "text/plain": [
       "<Figure size 1080x576 with 1 Axes>"
      ]
     },
     "metadata": {
      "needs_background": "light"
     },
     "output_type": "display_data"
    }
   ],
   "source": [
    "# patient experience\n",
    "plt.figure(figsize=(15, 8))\n",
    "sns.violinplot(x='Patient experience national comparison', y='numeric_overall_rating', data=df, palette='RdGy')\n",
    "plt.title('Boxen Plot of Overall Rating across Patient Experience National Comparison Levels')\n",
    "plt.xlabel('Patient experience national comparison')\n",
    "plt.ylabel('Overall Rating')\n",
    "plt.show()\n"
   ]
  },
  {
   "cell_type": "code",
   "execution_count": 534,
   "id": "b7a82cf2",
   "metadata": {},
   "outputs": [
    {
     "data": {
      "image/png": "[encoded data removed]",
      "text/plain": [
       "<Figure size 1080x576 with 1 Axes>"
      ]
     },
     "metadata": {
      "needs_background": "light"
     },
     "output_type": "display_data"
    }
   ],
   "source": [
    "# effectiveness of care\n",
    "plt.figure(figsize=(15, 8))\n",
    "sns.boxplot(x='Effectiveness of care national comparison', y='numeric_overall_rating', data=df, palette='YlGnBu')\n",
    "plt.title('Overall Rating vs Effectiveness of Care National Comparison Levels')\n",
    "plt.xlabel('Effectiveness of Care National Comparison')\n",
    "plt.ylabel('Overall Rating')\n",
    "plt.show()"
   ]
  },
  {
   "cell_type": "code",
   "execution_count": 535,
   "id": "f116cf71",
   "metadata": {},
   "outputs": [
    {
     "data": {
      "image/png": "[encoded data removed]",
      "text/plain": [
       "<Figure size 1080x576 with 1 Axes>"
      ]
     },
     "metadata": {
      "needs_background": "light"
     },
     "output_type": "display_data"
    }
   ],
   "source": [
    "# safety of care\n",
    "plt.figure(figsize=(15, 8))\n",
    "sns.histplot(x='Safety of care national comparison', y='numeric_overall_rating', data=df, palette='YlGnBu')\n",
    "plt.title('Overall Rating vs Safety of care national comparison Levels')\n",
    "plt.xlabel('Safety of care national comparison')\n",
    "plt.ylabel('Overall Rating')\n",
    "plt.show()"
   ]
  },
  {
   "cell_type": "code",
   "execution_count": 536,
   "id": "b6d88110",
   "metadata": {},
   "outputs": [
    {
     "data": {
      "image/png": "[encoded data removed]",
      "text/plain": [
       "<Figure size 1080x576 with 1 Axes>"
      ]
     },
     "metadata": {
      "needs_background": "light"
     },
     "output_type": "display_data"
    }
   ],
   "source": [
    "# does Ownership matter?\n",
    "\n",
    "# Sort the DataFrame by 'numeric_overall_rating'\n",
    "df_sorted = df.sort_values(by='numeric_overall_rating', ascending=False)\n",
    "\n",
    "plt.figure(figsize=(15, 8))\n",
    "ax = sns.barplot(x='Hospital Ownership', y='numeric_overall_rating', data=df_sorted, palette='YlGnBu')\n",
    "plt.title('Overall Rating vs Hospital Ownership')\n",
    "plt.xlabel('Hospital Ownership')\n",
    "plt.ylabel('Overall Rating')\n",
    "\n",
    "# Rotate x-axis labels to 90 degrees\n",
    "ax.set_xticklabels(ax.get_xticklabels(), rotation=90)\n",
    "\n",
    "plt.show()\n"
   ]
  },
  {
   "cell_type": "markdown",
   "id": "9e175a91",
   "metadata": {},
   "source": [
    "<h1>4. Statistical Analysis:</h1>"
   ]
  },
  {
   "cell_type": "code",
   "execution_count": 537,
   "id": "c931b1fb",
   "metadata": {},
   "outputs": [
    {
     "name": "stdout",
     "output_type": "stream",
     "text": [
      "                                               Column     Chi2 Value  P-value  \\\n",
      "6                     Readmission national comparison  471681.192282      0.0   \n",
      "7              Patient experience national comparison  415215.164084      0.0   \n",
      "4                       Mortality national comparison  344765.604863      0.0   \n",
      "5                  Safety of care national comparison  288570.015102      0.0   \n",
      "8           Effectiveness of care national comparison  250867.253926      0.0   \n",
      "9              Timeliness of care national comparison  235272.173110      0.0   \n",
      "10  Efficient use of medical imaging national comp...  206878.236487      0.0   \n",
      "0                                       Hospital Type  137049.408055      0.0   \n",
      "1                                  Hospital Ownership   52808.365612      0.0   \n",
      "2                                  Emergency Services   25917.652662      0.0   \n",
      "3   Meets criteria for promoting interoperability ...       0.000000      1.0   \n",
      "\n",
      "                              Decision  \n",
      "6           Reject the null hypothesis  \n",
      "7           Reject the null hypothesis  \n",
      "4           Reject the null hypothesis  \n",
      "5           Reject the null hypothesis  \n",
      "8           Reject the null hypothesis  \n",
      "9           Reject the null hypothesis  \n",
      "10          Reject the null hypothesis  \n",
      "0           Reject the null hypothesis  \n",
      "1           Reject the null hypothesis  \n",
      "2           Reject the null hypothesis  \n",
      "3   Fail to reject the null hypothesis  \n"
     ]
    }
   ],
   "source": [
    "# which features drive Hospital Overall Rating most? (base on Chi-squared Test)\n",
    "from scipy.stats import chi2_contingency\n",
    "\n",
    "# Select the columns of interest\n",
    "columns_of_interest = [\n",
    "    'Hospital Type',\n",
    "    'Hospital Ownership',\n",
    "    'Emergency Services',\n",
    "    'Meets criteria for promoting interoperability of EHRs',\n",
    "    'Mortality national comparison',\n",
    "    'Safety of care national comparison',\n",
    "    'Readmission national comparison',\n",
    "    'Patient experience national comparison',\n",
    "    'Effectiveness of care national comparison',\n",
    "    'Timeliness of care national comparison',\n",
    "    'Efficient use of medical imaging national comparison',\n",
    "    'Hospital overall rating'\n",
    "]\n",
    "\n",
    "# Create a subset DataFrame with only the selected columns\n",
    "subset_df = df[columns_of_interest]\n",
    "\n",
    "# Create a list to store results\n",
    "chi_square_results = []\n",
    "\n",
    "# Iterate through each column for chi-square tests\n",
    "for column in columns_of_interest[:-1]:  # Exclude 'Hospital overall rating'\n",
    "    contingency_table = pd.crosstab(subset_df[column], subset_df['Hospital overall rating'])\n",
    "    chi2, p, _, _ = chi2_contingency(contingency_table)\n",
    "    \n",
    "    # Determine the decision based on the p-value (using a common threshold of 0.05)\n",
    "    if p < 0.05:\n",
    "        decision = 'Reject the null hypothesis'\n",
    "    else:\n",
    "        decision = 'Fail to reject the null hypothesis'\n",
    "    \n",
    "    chi_square_results.append({\n",
    "        'Column': column,\n",
    "        'Chi2 Value': chi2,\n",
    "        'P-value': p,\n",
    "        'Decision': decision\n",
    "    })\n",
    "\n",
    "# Create a DataFrame from the results\n",
    "results_df = pd.DataFrame(chi_square_results)\n",
    "\n",
    "# Sort the DataFrame by Chi2 values in descending order\n",
    "results_df_sorted = results_df.sort_values(by='Chi2 Value', ascending=False)\n",
    "\n",
    "# Display the sorted results\n",
    "print(results_df_sorted)\n"
   ]
  },
  {
   "cell_type": "markdown",
   "id": "80bdd082",
   "metadata": {},
   "source": [
    "<h1>5. Results and Interpretation:</h1>\n",
    "\n",
    "- From the analysis, the Top Rated Hospitals most likely are Acute Care Hospitals and located in Western states such as Utah, Colorado, Idaho and South Dakota. \n",
    "- Also their Readmission, Patient experience, Effective of care, Safety of care, Effectiveness of care, Timeliness of care rates are equal to or higher than national rate, and their Motality rate is lower."
   ]
  },
  {
   "cell_type": "markdown",
   "id": "33b0d109",
   "metadata": {},
   "source": [
    "<h1>6. Recommendations:</h1>\n",
    "\n",
    "- If high patients satisfaction was the goal of the business, then it better be an Acute Care hospital and located in such states as Utah and Colorado.\n",
    "\n",
    "- The top priorities for patients satisfaction improvement are readmission, patient experience, effective of care rate. "
   ]
  },
  {
   "cell_type": "markdown",
   "id": "7fcc6aef",
   "metadata": {},
   "source": [
    "<h1>7. Limitations and Assumptions:</h1>\n",
    "\n",
    "- The data is not current (year 2020).\n",
    "\n",
    "- Assume the Hospital overall rating was reliable.\n",
    "\n",
    "- Different Hospital Types may have different types of patients so the ratings might not have equal meanings.\n",
    "\n",
    "- More geographic data needed to really understand why hospitals in some states have higher ratings.\n",
    "\n",
    "- The Readmission Rate is a curious one because, though it is strongly bond with high overall rating, it may also implies that quality of works were not good."
   ]
  },
  {
   "cell_type": "code",
   "execution_count": null,
   "id": "bb502050",
   "metadata": {},
   "outputs": [],
   "source": []
  }
 ],
 "metadata": {
  "kernelspec": {
   "display_name": "Python 3 (ipykernel)",
   "language": "python",
   "name": "python3"
  },
  "language_info": {
   "codemirror_mode": {
    "name": "ipython",
    "version": 3
   },
   "file_extension": ".py",
   "mimetype": "text/x-python",
   "name": "python",
   "nbconvert_exporter": "python",
   "pygments_lexer": "ipython3",
   "version": "3.9.7"
  }
 },
 "nbformat": 4,
 "nbformat_minor": 5
}
