{
  "nbformat": 4,
  "nbformat_minor": 0,
  "metadata": {
    "colab": {
      "provenance": [],
      "authorship_tag": "ABX9TyMpL/9qjuqTWP/VH+muo+vb",
      "include_colab_link": true
    },
    "kernelspec": {
      "name": "python3",
      "display_name": "Python 3"
    },
    "language_info": {
      "name": "python"
    }
  },
  "cells": [
    {
      "cell_type": "markdown",
      "metadata": {
        "id": "view-in-github",
        "colab_type": "text"
      },
      "source": [
        "<a href=\"https://colab.research.google.com/github/qvu3/portfolio/blob/main/fcc_bikes_regression_supervised.ipynb\" target=\"_parent\"><img src=\"https://colab.research.google.com/assets/colab-badge.svg\" alt=\"Open In Colab\"/></a>"
      ]
    },
    {
      "cell_type": "code",
      "execution_count": null,
      "metadata": {
        "id": "ZqPTHQFbZ4wa"
      },
      "outputs": [],
      "source": [
        "import pandas as pd\n",
        "import numpy as np\n",
        "import matplotlib.pyplot as plt\n",
        "import copy\n",
        "import seaborn as sns\n",
        "import tensorflow as tf\n",
        "\n",
        "\n",
        "from imblearn.over_sampling import RandomOverSampler\n",
        "from sklearn.preprocessing import StandardScaler\n",
        "from sklearn.linear_model import LinearRegression\n"
      ]
    },
    {
      "cell_type": "markdown",
      "source": [
        "Source:\n",
        "\n",
        "Data Source :http://data.seoul.go.kr/\n",
        "SOUTH KOREA PUBLIC HOLIDAYS. URL: publicholidays.go.kr"
      ],
      "metadata": {
        "id": "7b6h68ycbL6s"
      }
    },
    {
      "cell_type": "code",
      "source": [
        "dataset_cols = [\"bike_count\", \"hour\", \"temp\", \"humidity\", \"wind\", \"visibility\", \"dew_pt_temp\", \"radiation\", \"rain\", \"snow\", \"functional\"]\n",
        "df = pd.read_csv(\"SeoulBikeData.csv\").drop([\"Date\",\"Holiday\",\"Seasons\"], axis=1)"
      ],
      "metadata": {
        "id": "y1fPKLXsbdRz"
      },
      "execution_count": null,
      "outputs": []
    },
    {
      "cell_type": "code",
      "source": [
        "df.columns = dataset_cols\n",
        "df[\"functional\"] = (df[\"functional\"]== \"Yes\").astype(int)\n",
        "df = df[df[\"hour\"] == 12]\n",
        "df = df.drop([\"hour\"],axis=1)"
      ],
      "metadata": {
        "id": "GUmlLzpalWiB"
      },
      "execution_count": null,
      "outputs": []
    },
    {
      "cell_type": "code",
      "source": [
        "df.head()"
      ],
      "metadata": {
        "colab": {
          "base_uri": "https://localhost:8080/",
          "height": 270
        },
        "id": "J0OFfiCxdvn1",
        "outputId": "c1c9869f-ed52-4160-9d2c-3d7b2371b09d"
      },
      "execution_count": null,
      "outputs": [
        {
          "output_type": "execute_result",
          "data": {
            "text/plain": [
              "     bike_count  temp  humidity  wind  visibility  dew_pt_temp  radiation  \\\n",
              "12          449   1.7        23   1.4        2000        -17.2       1.11   \n",
              "36          479   4.3        41   1.3        1666         -7.8       1.09   \n",
              "60          333   5.8        85   1.7         349          3.4       0.43   \n",
              "84          393  -0.3        38   4.8        1823        -12.9       1.11   \n",
              "108         321  -2.3        25   0.0        1962        -19.7       0.00   \n",
              "\n",
              "     rain  snow  functional  \n",
              "12    0.0   0.0           1  \n",
              "36    0.0   0.0           1  \n",
              "60    0.0   0.0           1  \n",
              "84    0.0   0.0           1  \n",
              "108   0.0   0.0           1  "
            ],
            "text/html": [
              "\n",
              "  <div id=\"df-9a010d66-38fd-490c-816e-f4c9ba2e2ace\">\n",
              "    <div class=\"colab-df-container\">\n",
              "      <div>\n",
              "<style scoped>\n",
              "    .dataframe tbody tr th:only-of-type {\n",
              "        vertical-align: middle;\n",
              "    }\n",
              "\n",
              "    .dataframe tbody tr th {\n",
              "        vertical-align: top;\n",
              "    }\n",
              "\n",
              "    .dataframe thead th {\n",
              "        text-align: right;\n",
              "    }\n",
              "</style>\n",
              "<table border=\"1\" class=\"dataframe\">\n",
              "  <thead>\n",
              "    <tr style=\"text-align: right;\">\n",
              "      <th></th>\n",
              "      <th>bike_count</th>\n",
              "      <th>temp</th>\n",
              "      <th>humidity</th>\n",
              "      <th>wind</th>\n",
              "      <th>visibility</th>\n",
              "      <th>dew_pt_temp</th>\n",
              "      <th>radiation</th>\n",
              "      <th>rain</th>\n",
              "      <th>snow</th>\n",
              "      <th>functional</th>\n",
              "    </tr>\n",
              "  </thead>\n",
              "  <tbody>\n",
              "    <tr>\n",
              "      <th>12</th>\n",
              "      <td>449</td>\n",
              "      <td>1.7</td>\n",
              "      <td>23</td>\n",
              "      <td>1.4</td>\n",
              "      <td>2000</td>\n",
              "      <td>-17.2</td>\n",
              "      <td>1.11</td>\n",
              "      <td>0.0</td>\n",
              "      <td>0.0</td>\n",
              "      <td>1</td>\n",
              "    </tr>\n",
              "    <tr>\n",
              "      <th>36</th>\n",
              "      <td>479</td>\n",
              "      <td>4.3</td>\n",
              "      <td>41</td>\n",
              "      <td>1.3</td>\n",
              "      <td>1666</td>\n",
              "      <td>-7.8</td>\n",
              "      <td>1.09</td>\n",
              "      <td>0.0</td>\n",
              "      <td>0.0</td>\n",
              "      <td>1</td>\n",
              "    </tr>\n",
              "    <tr>\n",
              "      <th>60</th>\n",
              "      <td>333</td>\n",
              "      <td>5.8</td>\n",
              "      <td>85</td>\n",
              "      <td>1.7</td>\n",
              "      <td>349</td>\n",
              "      <td>3.4</td>\n",
              "      <td>0.43</td>\n",
              "      <td>0.0</td>\n",
              "      <td>0.0</td>\n",
              "      <td>1</td>\n",
              "    </tr>\n",
              "    <tr>\n",
              "      <th>84</th>\n",
              "      <td>393</td>\n",
              "      <td>-0.3</td>\n",
              "      <td>38</td>\n",
              "      <td>4.8</td>\n",
              "      <td>1823</td>\n",
              "      <td>-12.9</td>\n",
              "      <td>1.11</td>\n",
              "      <td>0.0</td>\n",
              "      <td>0.0</td>\n",
              "      <td>1</td>\n",
              "    </tr>\n",
              "    <tr>\n",
              "      <th>108</th>\n",
              "      <td>321</td>\n",
              "      <td>-2.3</td>\n",
              "      <td>25</td>\n",
              "      <td>0.0</td>\n",
              "      <td>1962</td>\n",
              "      <td>-19.7</td>\n",
              "      <td>0.00</td>\n",
              "      <td>0.0</td>\n",
              "      <td>0.0</td>\n",
              "      <td>1</td>\n",
              "    </tr>\n",
              "  </tbody>\n",
              "</table>\n",
              "</div>\n",
              "      <button class=\"colab-df-convert\" onclick=\"convertToInteractive('df-9a010d66-38fd-490c-816e-f4c9ba2e2ace')\"\n",
              "              title=\"Convert this dataframe to an interactive table.\"\n",
              "              style=\"display:none;\">\n",
              "        \n",
              "  <svg xmlns=\"http://www.w3.org/2000/svg\" height=\"24px\"viewBox=\"0 0 24 24\"\n",
              "       width=\"24px\">\n",
              "    <path d=\"M0 0h24v24H0V0z\" fill=\"none\"/>\n",
              "    <path d=\"M18.56 5.44l.94 2.06.94-2.06 2.06-.94-2.06-.94-.94-2.06-.94 2.06-2.06.94zm-11 1L8.5 8.5l.94-2.06 2.06-.94-2.06-.94L8.5 2.5l-.94 2.06-2.06.94zm10 10l.94 2.06.94-2.06 2.06-.94-2.06-.94-.94-2.06-.94 2.06-2.06.94z\"/><path d=\"M17.41 7.96l-1.37-1.37c-.4-.4-.92-.59-1.43-.59-.52 0-1.04.2-1.43.59L10.3 9.45l-7.72 7.72c-.78.78-.78 2.05 0 2.83L4 21.41c.39.39.9.59 1.41.59.51 0 1.02-.2 1.41-.59l7.78-7.78 2.81-2.81c.8-.78.8-2.07 0-2.86zM5.41 20L4 18.59l7.72-7.72 1.47 1.35L5.41 20z\"/>\n",
              "  </svg>\n",
              "      </button>\n",
              "      \n",
              "  <style>\n",
              "    .colab-df-container {\n",
              "      display:flex;\n",
              "      flex-wrap:wrap;\n",
              "      gap: 12px;\n",
              "    }\n",
              "\n",
              "    .colab-df-convert {\n",
              "      background-color: #E8F0FE;\n",
              "      border: none;\n",
              "      border-radius: 50%;\n",
              "      cursor: pointer;\n",
              "      display: none;\n",
              "      fill: #1967D2;\n",
              "      height: 32px;\n",
              "      padding: 0 0 0 0;\n",
              "      width: 32px;\n",
              "    }\n",
              "\n",
              "    .colab-df-convert:hover {\n",
              "      background-color: #E2EBFA;\n",
              "      box-shadow: 0px 1px 2px rgba(60, 64, 67, 0.3), 0px 1px 3px 1px rgba(60, 64, 67, 0.15);\n",
              "      fill: #174EA6;\n",
              "    }\n",
              "\n",
              "    [theme=dark] .colab-df-convert {\n",
              "      background-color: #3B4455;\n",
              "      fill: #D2E3FC;\n",
              "    }\n",
              "\n",
              "    [theme=dark] .colab-df-convert:hover {\n",
              "      background-color: #434B5C;\n",
              "      box-shadow: 0px 1px 3px 1px rgba(0, 0, 0, 0.15);\n",
              "      filter: drop-shadow(0px 1px 2px rgba(0, 0, 0, 0.3));\n",
              "      fill: #FFFFFF;\n",
              "    }\n",
              "  </style>\n",
              "\n",
              "      <script>\n",
              "        const buttonEl =\n",
              "          document.querySelector('#df-9a010d66-38fd-490c-816e-f4c9ba2e2ace button.colab-df-convert');\n",
              "        buttonEl.style.display =\n",
              "          google.colab.kernel.accessAllowed ? 'block' : 'none';\n",
              "\n",
              "        async function convertToInteractive(key) {\n",
              "          const element = document.querySelector('#df-9a010d66-38fd-490c-816e-f4c9ba2e2ace');\n",
              "          const dataTable =\n",
              "            await google.colab.kernel.invokeFunction('convertToInteractive',\n",
              "                                                     [key], {});\n",
              "          if (!dataTable) return;\n",
              "\n",
              "          const docLinkHtml = 'Like what you see? Visit the ' +\n",
              "            '<a target=\"_blank\" href=https://colab.research.google.com/notebooks/data_table.ipynb>data table notebook</a>'\n",
              "            + ' to learn more about interactive tables.';\n",
              "          element.innerHTML = '';\n",
              "          dataTable['output_type'] = 'display_data';\n",
              "          await google.colab.output.renderOutput(dataTable, element);\n",
              "          const docLink = document.createElement('div');\n",
              "          docLink.innerHTML = docLinkHtml;\n",
              "          element.appendChild(docLink);\n",
              "        }\n",
              "      </script>\n",
              "    </div>\n",
              "  </div>\n",
              "  "
            ]
          },
          "metadata": {},
          "execution_count": 61
        }
      ]
    },
    {
      "cell_type": "code",
      "source": [
        "for label in df.columns[1:]:\n",
        "  plt.scatter(df[label],df[\"bike_count\"])\n",
        "  plt.title(label)\n",
        "  plt.ylabel(\"bike count at Noon\")\n",
        "  plt.xlabel(label)\n",
        "  plt.show()"
      ],
      "metadata": {
        "id": "RBDi90YYeWKz"
      },
      "execution_count": null,
      "outputs": []
    },
    {
      "cell_type": "code",
      "source": [
        "df.head()"
      ],
      "metadata": {
        "colab": {
          "base_uri": "https://localhost:8080/",
          "height": 206
        },
        "id": "iTQPANOwmnPj",
        "outputId": "5454a360-a9af-4456-b01e-19a242e88311"
      },
      "execution_count": null,
      "outputs": [
        {
          "output_type": "execute_result",
          "data": {
            "text/plain": [
              "     bike_count  temp  humidity  dew_pt_temp  radiation  rain  snow\n",
              "12          449   1.7        23        -17.2       1.11   0.0   0.0\n",
              "36          479   4.3        41         -7.8       1.09   0.0   0.0\n",
              "60          333   5.8        85          3.4       0.43   0.0   0.0\n",
              "84          393  -0.3        38        -12.9       1.11   0.0   0.0\n",
              "108         321  -2.3        25        -19.7       0.00   0.0   0.0"
            ],
            "text/html": [
              "\n",
              "  <div id=\"df-98d234aa-be0e-4a89-848f-f923aa2ed249\">\n",
              "    <div class=\"colab-df-container\">\n",
              "      <div>\n",
              "<style scoped>\n",
              "    .dataframe tbody tr th:only-of-type {\n",
              "        vertical-align: middle;\n",
              "    }\n",
              "\n",
              "    .dataframe tbody tr th {\n",
              "        vertical-align: top;\n",
              "    }\n",
              "\n",
              "    .dataframe thead th {\n",
              "        text-align: right;\n",
              "    }\n",
              "</style>\n",
              "<table border=\"1\" class=\"dataframe\">\n",
              "  <thead>\n",
              "    <tr style=\"text-align: right;\">\n",
              "      <th></th>\n",
              "      <th>bike_count</th>\n",
              "      <th>temp</th>\n",
              "      <th>humidity</th>\n",
              "      <th>dew_pt_temp</th>\n",
              "      <th>radiation</th>\n",
              "      <th>rain</th>\n",
              "      <th>snow</th>\n",
              "    </tr>\n",
              "  </thead>\n",
              "  <tbody>\n",
              "    <tr>\n",
              "      <th>12</th>\n",
              "      <td>449</td>\n",
              "      <td>1.7</td>\n",
              "      <td>23</td>\n",
              "      <td>-17.2</td>\n",
              "      <td>1.11</td>\n",
              "      <td>0.0</td>\n",
              "      <td>0.0</td>\n",
              "    </tr>\n",
              "    <tr>\n",
              "      <th>36</th>\n",
              "      <td>479</td>\n",
              "      <td>4.3</td>\n",
              "      <td>41</td>\n",
              "      <td>-7.8</td>\n",
              "      <td>1.09</td>\n",
              "      <td>0.0</td>\n",
              "      <td>0.0</td>\n",
              "    </tr>\n",
              "    <tr>\n",
              "      <th>60</th>\n",
              "      <td>333</td>\n",
              "      <td>5.8</td>\n",
              "      <td>85</td>\n",
              "      <td>3.4</td>\n",
              "      <td>0.43</td>\n",
              "      <td>0.0</td>\n",
              "      <td>0.0</td>\n",
              "    </tr>\n",
              "    <tr>\n",
              "      <th>84</th>\n",
              "      <td>393</td>\n",
              "      <td>-0.3</td>\n",
              "      <td>38</td>\n",
              "      <td>-12.9</td>\n",
              "      <td>1.11</td>\n",
              "      <td>0.0</td>\n",
              "      <td>0.0</td>\n",
              "    </tr>\n",
              "    <tr>\n",
              "      <th>108</th>\n",
              "      <td>321</td>\n",
              "      <td>-2.3</td>\n",
              "      <td>25</td>\n",
              "      <td>-19.7</td>\n",
              "      <td>0.00</td>\n",
              "      <td>0.0</td>\n",
              "      <td>0.0</td>\n",
              "    </tr>\n",
              "  </tbody>\n",
              "</table>\n",
              "</div>\n",
              "      <button class=\"colab-df-convert\" onclick=\"convertToInteractive('df-98d234aa-be0e-4a89-848f-f923aa2ed249')\"\n",
              "              title=\"Convert this dataframe to an interactive table.\"\n",
              "              style=\"display:none;\">\n",
              "        \n",
              "  <svg xmlns=\"http://www.w3.org/2000/svg\" height=\"24px\"viewBox=\"0 0 24 24\"\n",
              "       width=\"24px\">\n",
              "    <path d=\"M0 0h24v24H0V0z\" fill=\"none\"/>\n",
              "    <path d=\"M18.56 5.44l.94 2.06.94-2.06 2.06-.94-2.06-.94-.94-2.06-.94 2.06-2.06.94zm-11 1L8.5 8.5l.94-2.06 2.06-.94-2.06-.94L8.5 2.5l-.94 2.06-2.06.94zm10 10l.94 2.06.94-2.06 2.06-.94-2.06-.94-.94-2.06-.94 2.06-2.06.94z\"/><path d=\"M17.41 7.96l-1.37-1.37c-.4-.4-.92-.59-1.43-.59-.52 0-1.04.2-1.43.59L10.3 9.45l-7.72 7.72c-.78.78-.78 2.05 0 2.83L4 21.41c.39.39.9.59 1.41.59.51 0 1.02-.2 1.41-.59l7.78-7.78 2.81-2.81c.8-.78.8-2.07 0-2.86zM5.41 20L4 18.59l7.72-7.72 1.47 1.35L5.41 20z\"/>\n",
              "  </svg>\n",
              "      </button>\n",
              "      \n",
              "  <style>\n",
              "    .colab-df-container {\n",
              "      display:flex;\n",
              "      flex-wrap:wrap;\n",
              "      gap: 12px;\n",
              "    }\n",
              "\n",
              "    .colab-df-convert {\n",
              "      background-color: #E8F0FE;\n",
              "      border: none;\n",
              "      border-radius: 50%;\n",
              "      cursor: pointer;\n",
              "      display: none;\n",
              "      fill: #1967D2;\n",
              "      height: 32px;\n",
              "      padding: 0 0 0 0;\n",
              "      width: 32px;\n",
              "    }\n",
              "\n",
              "    .colab-df-convert:hover {\n",
              "      background-color: #E2EBFA;\n",
              "      box-shadow: 0px 1px 2px rgba(60, 64, 67, 0.3), 0px 1px 3px 1px rgba(60, 64, 67, 0.15);\n",
              "      fill: #174EA6;\n",
              "    }\n",
              "\n",
              "    [theme=dark] .colab-df-convert {\n",
              "      background-color: #3B4455;\n",
              "      fill: #D2E3FC;\n",
              "    }\n",
              "\n",
              "    [theme=dark] .colab-df-convert:hover {\n",
              "      background-color: #434B5C;\n",
              "      box-shadow: 0px 1px 3px 1px rgba(0, 0, 0, 0.15);\n",
              "      filter: drop-shadow(0px 1px 2px rgba(0, 0, 0, 0.3));\n",
              "      fill: #FFFFFF;\n",
              "    }\n",
              "  </style>\n",
              "\n",
              "      <script>\n",
              "        const buttonEl =\n",
              "          document.querySelector('#df-98d234aa-be0e-4a89-848f-f923aa2ed249 button.colab-df-convert');\n",
              "        buttonEl.style.display =\n",
              "          google.colab.kernel.accessAllowed ? 'block' : 'none';\n",
              "\n",
              "        async function convertToInteractive(key) {\n",
              "          const element = document.querySelector('#df-98d234aa-be0e-4a89-848f-f923aa2ed249');\n",
              "          const dataTable =\n",
              "            await google.colab.kernel.invokeFunction('convertToInteractive',\n",
              "                                                     [key], {});\n",
              "          if (!dataTable) return;\n",
              "\n",
              "          const docLinkHtml = 'Like what you see? Visit the ' +\n",
              "            '<a target=\"_blank\" href=https://colab.research.google.com/notebooks/data_table.ipynb>data table notebook</a>'\n",
              "            + ' to learn more about interactive tables.';\n",
              "          element.innerHTML = '';\n",
              "          dataTable['output_type'] = 'display_data';\n",
              "          await google.colab.output.renderOutput(dataTable, element);\n",
              "          const docLink = document.createElement('div');\n",
              "          docLink.innerHTML = docLinkHtml;\n",
              "          element.appendChild(docLink);\n",
              "        }\n",
              "      </script>\n",
              "    </div>\n",
              "  </div>\n",
              "  "
            ]
          },
          "metadata": {},
          "execution_count": 25
        }
      ]
    },
    {
      "cell_type": "markdown",
      "source": [
        "<h2><b>Train/Valid/Test dataset"
      ],
      "metadata": {
        "id": "IuLRTUPgokS9"
      }
    },
    {
      "cell_type": "code",
      "source": [
        "train, val, test = np.split(df.sample(frac=1), [int(len(df)*0.6), int(len(df)*0.8)])"
      ],
      "metadata": {
        "id": "DzQgjeZXoqW9"
      },
      "execution_count": null,
      "outputs": []
    },
    {
      "cell_type": "code",
      "source": [
        "def get_xy(dataframe, y_label, x_labels=None):\n",
        "  dataframe = copy.deepcopy(dataframe)\n",
        "  if x_labels is None:\n",
        "    x = dataframe[[c for c in dataframe.columns if c != y_label]].values\n",
        "  else:\n",
        "    if len(x_labels) == 1:\n",
        "      x = dataframe[x_labels[0]].values.reshape(-1,1)\n",
        "    else:\n",
        "      x = dataframe[x_labels].values\n",
        "\n",
        "  y = dataframe[y_label].values.reshape(-1,1)\n",
        "  data = np.hstack((x,y))\n",
        "\n",
        "  return data, x, y "
      ],
      "metadata": {
        "id": "F3L2S5N5oNgs"
      },
      "execution_count": null,
      "outputs": []
    },
    {
      "cell_type": "code",
      "source": [
        "_, x_train_temp, y_train_temp = get_xy(train, \"bike_count\", x_labels=[\"temp\"])\n",
        "_, x_val_temp, y_val_temp = get_xy(val, \"bike_count\", x_labels=[\"temp\"])\n",
        "_, x_test_temp, y_test_temp = get_xy(test, \"bike_count\", x_labels=[\"temp\"])"
      ],
      "metadata": {
        "id": "Mom1zUQYq5Xf"
      },
      "execution_count": null,
      "outputs": []
    },
    {
      "cell_type": "code",
      "source": [
        "temp_reg = LinearRegression()\n",
        "temp_reg.fit(x_train_temp, y_train_temp)"
      ],
      "metadata": {
        "colab": {
          "base_uri": "https://localhost:8080/"
        },
        "id": "yolDHjfgrmzE",
        "outputId": "bad2c66f-db13-4cb0-8dbc-ac8745f75d51"
      },
      "execution_count": null,
      "outputs": [
        {
          "output_type": "execute_result",
          "data": {
            "text/plain": [
              "LinearRegression()"
            ]
          },
          "metadata": {},
          "execution_count": 31
        }
      ]
    },
    {
      "cell_type": "code",
      "source": [
        "print(temp_reg.coef_, temp_reg.intercept_)"
      ],
      "metadata": {
        "colab": {
          "base_uri": "https://localhost:8080/"
        },
        "id": "W-hL09yOruxM",
        "outputId": "c9b21d30-da9e-464a-99d0-41f2855355f9"
      },
      "execution_count": null,
      "outputs": [
        {
          "output_type": "stream",
          "name": "stdout",
          "text": [
            "[[18.75374801]] [371.7896489]\n"
          ]
        }
      ]
    },
    {
      "cell_type": "code",
      "source": [
        "temp_reg.score(x_test_temp, y_test_temp)"
      ],
      "metadata": {
        "colab": {
          "base_uri": "https://localhost:8080/"
        },
        "id": "6I7S8vOUywB2",
        "outputId": "1a4195e7-9756-4537-fda2-c2c073986dbd"
      },
      "execution_count": null,
      "outputs": [
        {
          "output_type": "execute_result",
          "data": {
            "text/plain": [
              "0.32726496556618223"
            ]
          },
          "metadata": {},
          "execution_count": 33
        }
      ]
    },
    {
      "cell_type": "code",
      "source": [
        "plt.scatter(x_train_temp, y_train_temp, label=\"Data\", color=\"blue\")\n",
        "x = tf.linspace(-20, 40, 100)\n",
        "plt.plot(x, temp_reg.predict(np.array(x).reshape(-1,1)), label=\"fit\", color=\"red\", linewidth=3)\n",
        "plt.legend()\n",
        "plt.title(\"Bikes vs Temp\")\n",
        "plt.ylabel(\"Number of bikes\")\n",
        "plt.xlabel(\"Temp\")\n",
        "plt.show()\n"
      ],
      "metadata": {
        "colab": {
          "base_uri": "https://localhost:8080/",
          "height": 295
        },
        "id": "l219SDzsy96i",
        "outputId": "57d8d126-23f1-4133-d0a7-e71056f5288e"
      },
      "execution_count": null,
      "outputs": [
        {
          "output_type": "display_data",
          "data": {
            "text/plain": [
              "<Figure size 432x288 with 1 Axes>"
            ],
            "image/png": "[encoded data removed]"
          },
          "metadata": {
            "needs_background": "light"
          }
        }
      ]
    },
    {
      "cell_type": "markdown",
      "source": [
        "<h2><b>Multiple Linear Regression"
      ],
      "metadata": {
        "id": "-Pj4XAmGAHdp"
      }
    },
    {
      "cell_type": "code",
      "source": [
        "df.columns"
      ],
      "metadata": {
        "colab": {
          "base_uri": "https://localhost:8080/"
        },
        "id": "a2HhBqvLAPpo",
        "outputId": "bdcf7a64-82de-401b-bdc2-925debdfbe86"
      },
      "execution_count": null,
      "outputs": [
        {
          "output_type": "execute_result",
          "data": {
            "text/plain": [
              "Index(['bike_count', 'temp', 'humidity', 'dew_pt_temp', 'radiation', 'rain',\n",
              "       'snow'],\n",
              "      dtype='object')"
            ]
          },
          "metadata": {},
          "execution_count": 151
        }
      ]
    },
    {
      "cell_type": "code",
      "source": [
        "train, val, test = np.split(df.sample(frac=1), [int(len(df)*0.6), int(len(df)*0.8)])\n",
        "_, x_train_all, y_train_all = get_xy(train, \"bike_count\", x_labels=train.columns[1:])\n",
        "_, x_val_all, y_val_all = get_xy(val, \"bike_count\", x_labels=val.columns[1:])\n",
        "_, x_test_all, y_test_all = get_xy(test, \"bike_count\", x_labels=test.columns[1:])"
      ],
      "metadata": {
        "id": "FGsRBbVY-N-O"
      },
      "execution_count": null,
      "outputs": []
    },
    {
      "cell_type": "code",
      "source": [
        "all_reg = LinearRegression()\n",
        "all_reg.fit(x_train_all, y_train_all)"
      ],
      "metadata": {
        "colab": {
          "base_uri": "https://localhost:8080/"
        },
        "id": "-TG4QN6DCZyE",
        "outputId": "59e45608-9583-4353-9354-41b59f1957d5"
      },
      "execution_count": null,
      "outputs": [
        {
          "output_type": "execute_result",
          "data": {
            "text/plain": [
              "LinearRegression()"
            ]
          },
          "metadata": {},
          "execution_count": 156
        }
      ]
    },
    {
      "cell_type": "code",
      "source": [
        "all_reg.score(x_test_all, y_test_all)"
      ],
      "metadata": {
        "colab": {
          "base_uri": "https://localhost:8080/"
        },
        "id": "Ztuj3CRzCjcJ",
        "outputId": "54a8a45b-0395-4d23-fdd6-81d13cc52f8d"
      },
      "execution_count": null,
      "outputs": [
        {
          "output_type": "execute_result",
          "data": {
            "text/plain": [
              "0.495981067625472"
            ]
          },
          "metadata": {},
          "execution_count": 157
        }
      ]
    },
    {
      "cell_type": "markdown",
      "source": [
        "<h2><b>Regression with NN"
      ],
      "metadata": {
        "id": "XQnW68qqC3i9"
      }
    },
    {
      "cell_type": "code",
      "source": [
        "def plot_loss(history):\n",
        "  plt.plot(history.history['loss'], label='loss')\n",
        "  plt.plot(history.history['val_loss'], label='val_loss')\n",
        "  plt.xlabel('Epoch')\n",
        "  plt.ylabel('MSE')\n",
        "  plt.legend()\n",
        "  plt.grid(True)\n",
        "  plt.show()"
      ],
      "metadata": {
        "id": "XHus6vwPE7Dq"
      },
      "execution_count": null,
      "outputs": []
    },
    {
      "cell_type": "code",
      "source": [
        "temp_normalizer = tf.keras.layers.Normalization(input_shape=(1,),axis=None)\n",
        "temp_normalizer.adapt(x_train_temp.reshape(-1,1))"
      ],
      "metadata": {
        "id": "0sTKXzTGC7mA"
      },
      "execution_count": null,
      "outputs": []
    },
    {
      "cell_type": "code",
      "source": [
        "temp_nn_model = tf.keras.Sequential([\n",
        "    temp_normalizer,\n",
        "    tf.keras.layers.Dense(1)\n",
        "])"
      ],
      "metadata": {
        "id": "bQ4HWxkNDW1b"
      },
      "execution_count": null,
      "outputs": []
    },
    {
      "cell_type": "code",
      "source": [
        "temp_nn_model.compile(optimizer=tf.keras.optimizers.Adam(learning_rate=0.1), loss='mean_squared_error')"
      ],
      "metadata": {
        "id": "eJEpoByoEQ_i"
      },
      "execution_count": null,
      "outputs": []
    },
    {
      "cell_type": "code",
      "source": [
        "history = temp_nn_model.fit(\n",
        "    x_train_temp.reshape(-1), y_train_temp,\n",
        "    verbose=0,\n",
        "    epochs=1000,\n",
        "    validation_data=(x_val_temp, y_val_temp)\n",
        ")"
      ],
      "metadata": {
        "id": "pnOZrmSGEc7T"
      },
      "execution_count": null,
      "outputs": []
    },
    {
      "cell_type": "code",
      "source": [
        "plot_loss(history)"
      ],
      "metadata": {
        "colab": {
          "base_uri": "https://localhost:8080/",
          "height": 279
        },
        "id": "pmog70j_E2xz",
        "outputId": "5ab9e487-c769-4ad5-b6ed-a7ecac3d6307"
      },
      "execution_count": null,
      "outputs": [
        {
          "output_type": "display_data",
          "data": {
            "text/plain": [
              "<Figure size 432x288 with 1 Axes>"
            ],
            "image/png": "[encoded data removed]"
          },
          "metadata": {
            "needs_background": "light"
          }
        }
      ]
    },
    {
      "cell_type": "code",
      "source": [
        "plt.scatter(x_train_temp, y_train_temp, label=\"Data\", color=\"blue\")\n",
        "x = tf.linspace(-20, 40, 100)\n",
        "plt.plot(x, temp_nn_model.predict(np.array(x).reshape(-1,1)), label=\"fit\", color=\"red\", linewidth=3)\n",
        "plt.legend()\n",
        "plt.title(\"Bikes vs Temp\")\n",
        "plt.ylabel(\"Number of bikes\")\n",
        "plt.xlabel(\"Temp\")\n",
        "plt.show()"
      ],
      "metadata": {
        "colab": {
          "base_uri": "https://localhost:8080/",
          "height": 313
        },
        "id": "WkhqOa9eFjrQ",
        "outputId": "5c7ba557-5611-4d40-d366-ec47267c2cf9"
      },
      "execution_count": null,
      "outputs": [
        {
          "output_type": "stream",
          "name": "stdout",
          "text": [
            "4/4 [==============================] - 0s 4ms/step\n"
          ]
        },
        {
          "output_type": "display_data",
          "data": {
            "text/plain": [
              "<Figure size 432x288 with 1 Axes>"
            ],
            "image/png": "[encoded data removed]"
          },
          "metadata": {
            "needs_background": "light"
          }
        }
      ]
    },
    {
      "cell_type": "markdown",
      "source": [
        "<b>NN Single Input"
      ],
      "metadata": {
        "id": "wSMsm7P-Gryo"
      }
    },
    {
      "cell_type": "code",
      "source": [
        "temp_normalizer = tf.keras.layers.Normalization(input_shape=(1,),axis=None)\n",
        "temp_normalizer.adapt(x_train_temp.reshape(-1))\n",
        "single_nn_model = tf.keras.Sequential([\n",
        "    temp_normalizer,\n",
        "    tf.keras.layers.Dense(32,activation='relu'),\n",
        "    tf.keras.layers.Dense(32,activation='relu'),\n",
        "    tf.keras.layers.Dense(1,activation='relu')\n",
        "])\n",
        "\n",
        "single_nn_model.compile(optimizer=tf.keras.optimizers.Adam(learning_rate=0.001),loss='mean_squared_error')"
      ],
      "metadata": {
        "id": "EzLgC5bXGPjR"
      },
      "execution_count": null,
      "outputs": []
    },
    {
      "cell_type": "code",
      "source": [
        "history = single_nn_model.fit(\n",
        "    x_train_temp.reshape(-1), y_train_temp,\n",
        "    verbose=0,\n",
        "    epochs=1000,\n",
        "    validation_data=(x_val_temp, y_val_temp)\n",
        ")"
      ],
      "metadata": {
        "id": "FZXB4iIhQ6Z4"
      },
      "execution_count": null,
      "outputs": []
    },
    {
      "cell_type": "code",
      "source": [
        "plot_loss(history)"
      ],
      "metadata": {
        "colab": {
          "base_uri": "https://localhost:8080/",
          "height": 279
        },
        "id": "jt-s0mTyH0gO",
        "outputId": "e012dd83-2a0b-4e07-e6cc-edba2c7b6356"
      },
      "execution_count": null,
      "outputs": [
        {
          "output_type": "display_data",
          "data": {
            "text/plain": [
              "<Figure size 432x288 with 1 Axes>"
            ],
            "image/png": "[encoded data removed]"
          },
          "metadata": {
            "needs_background": "light"
          }
        }
      ]
    },
    {
      "cell_type": "code",
      "source": [
        "plt.scatter(x_train_temp, y_train_temp, label=\"Data\", color=\"blue\")\n",
        "x = tf.linspace(-20, 40, 100)\n",
        "plt.plot(x, single_nn_model.predict(np.array(x).reshape(-1,1)), label=\"fit\", color=\"red\", linewidth=3)\n",
        "plt.legend()\n",
        "plt.title(\"Bikes vs Temp\")\n",
        "plt.ylabel(\"Number of bikes\")\n",
        "plt.xlabel(\"Temp\")\n",
        "plt.show()"
      ],
      "metadata": {
        "colab": {
          "base_uri": "https://localhost:8080/",
          "height": 313
        },
        "id": "3k1A2wi2NlmT",
        "outputId": "0b5d5b79-1aa8-4e4f-801a-5b3745104a28"
      },
      "execution_count": null,
      "outputs": [
        {
          "output_type": "stream",
          "name": "stdout",
          "text": [
            "4/4 [==============================] - 0s 3ms/step\n"
          ]
        },
        {
          "output_type": "display_data",
          "data": {
            "text/plain": [
              "<Figure size 432x288 with 1 Axes>"
            ],
            "image/png": "[encoded data removed]"
          },
          "metadata": {
            "needs_background": "light"
          }
        }
      ]
    },
    {
      "cell_type": "markdown",
      "source": [
        "<h2><b>NN Multi-inputs"
      ],
      "metadata": {
        "id": "bDZs0shERnRx"
      }
    },
    {
      "cell_type": "code",
      "source": [
        "all_normalizer = tf.keras.layers.Normalization(input_shape=(6,),axis=-1)\n",
        "all_normalizer.adapt(x_train_all)\n"
      ],
      "metadata": {
        "id": "BuQZn1KpRmqg"
      },
      "execution_count": null,
      "outputs": []
    },
    {
      "cell_type": "code",
      "source": [
        "all_nn_model = tf.keras.Sequential([\n",
        "    all_normalizer,\n",
        "    tf.keras.layers.Dense(32,activation='relu'),\n",
        "    tf.keras.layers.Dense(32,activation='relu'),\n",
        "    tf.keras.layers.Dense(1,activation='relu')\n",
        "])\n",
        "\n",
        "all_nn_model.compile(optimizer=tf.keras.optimizers.Adam(learning_rate=0.001),loss='mean_squared_error')"
      ],
      "metadata": {
        "id": "gEqSovXYOf7K"
      },
      "execution_count": null,
      "outputs": []
    },
    {
      "cell_type": "code",
      "source": [
        "history = all_nn_model.fit(\n",
        "    x_train_all, y_train_all,\n",
        "    verbose=0,\n",
        "    epochs=1000,\n",
        "    validation_data=(x_val_all, y_val_all)\n",
        ")"
      ],
      "metadata": {
        "id": "eTG48rqETCJJ"
      },
      "execution_count": null,
      "outputs": []
    },
    {
      "cell_type": "code",
      "source": [
        "plot_loss(history)"
      ],
      "metadata": {
        "colab": {
          "base_uri": "https://localhost:8080/",
          "height": 279
        },
        "id": "k3utnsRNTI7T",
        "outputId": "b804d911-93ec-4c19-dc29-d36046b87faa"
      },
      "execution_count": null,
      "outputs": [
        {
          "output_type": "display_data",
          "data": {
            "text/plain": [
              "<Figure size 432x288 with 1 Axes>"
            ],
            "image/png": "[encoded data removed]"
          },
          "metadata": {
            "needs_background": "light"
          }
        }
      ]
    },
    {
      "cell_type": "code",
      "source": [
        "# calculate MSE for both linear reg and nn\n",
        "y_pred_lr = all_reg.predict(x_test_all)\n",
        "y_pred_nn = all_nn_model.predict(x_test_all)"
      ],
      "metadata": {
        "colab": {
          "base_uri": "https://localhost:8080/"
        },
        "id": "Da2DUij9USNh",
        "outputId": "207660bc-0945-46fe-f521-3d803a772644"
      },
      "execution_count": null,
      "outputs": [
        {
          "output_type": "stream",
          "name": "stdout",
          "text": [
            "3/3 [==============================] - 0s 3ms/step\n"
          ]
        }
      ]
    },
    {
      "cell_type": "code",
      "source": [
        "def MSE(y_pred, y_real):\n",
        "  return (np.square(y_pred - y_real)).mean()"
      ],
      "metadata": {
        "id": "eakhZvYXU0hU"
      },
      "execution_count": null,
      "outputs": []
    },
    {
      "cell_type": "code",
      "source": [
        "MSE(y_pred_lr,y_test_all)"
      ],
      "metadata": {
        "colab": {
          "base_uri": "https://localhost:8080/"
        },
        "id": "IWcmFk0OVR45",
        "outputId": "80183e5b-6acd-4412-a5fb-f8eca101700f"
      },
      "execution_count": null,
      "outputs": [
        {
          "output_type": "execute_result",
          "data": {
            "text/plain": [
              "114761.03581072105"
            ]
          },
          "metadata": {},
          "execution_count": 176
        }
      ]
    },
    {
      "cell_type": "code",
      "source": [
        "MSE(y_pred_nn,y_test_all)"
      ],
      "metadata": {
        "colab": {
          "base_uri": "https://localhost:8080/"
        },
        "id": "oV-p_szrVev3",
        "outputId": "4aa4e3fc-d461-4d74-94f5-6360e8557962"
      },
      "execution_count": null,
      "outputs": [
        {
          "output_type": "execute_result",
          "data": {
            "text/plain": [
              "109101.38712243781"
            ]
          },
          "metadata": {},
          "execution_count": 180
        }
      ]
    },
    {
      "cell_type": "code",
      "source": [
        "ax = plt.axes(aspect=\"equal\")\n",
        "plt.scatter(y_test_all, y_pred_lr, label='Lin Reg Preds')\n",
        "plt.scatter(y_test_all, y_pred_nn, label='NN Preds')\n",
        "plt.ylabel(\"Predictions\")\n",
        "plt.xlabel(\"True Values\")\n",
        "lims = [0, 1500]\n",
        "plt.xlim(lims)\n",
        "plt.ylim(lims)\n",
        "_ = plt.plot(lims,lims,c=\"red\")\n",
        "plt.legend()\n",
        "plt.show()"
      ],
      "metadata": {
        "colab": {
          "base_uri": "https://localhost:8080/",
          "height": 279
        },
        "id": "ZH8ShIpQVipM",
        "outputId": "fe593072-d1dc-444d-d826-d702d6f49f02"
      },
      "execution_count": null,
      "outputs": [
        {
          "output_type": "display_data",
          "data": {
            "text/plain": [
              "<Figure size 432x288 with 1 Axes>"
            ],
            "image/png": "[encoded data removed]"
          },
          "metadata": {
            "needs_background": "light"
          }
        }
      ]
    },
    {
      "cell_type": "code",
      "source": [],
      "metadata": {
        "id": "vhKrLiCEYu_F"
      },
      "execution_count": null,
      "outputs": []
    }
  ]
}